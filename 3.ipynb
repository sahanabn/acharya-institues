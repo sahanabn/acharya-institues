{
  "nbformat": 4,
  "nbformat_minor": 0,
  "metadata": {
    "colab": {
      "name": "SORTipynb",
      "provenance": [],
      "collapsed_sections": []
    },
    "kernelspec": {
      "name": "python3",
      "display_name": "Python 3"
    }
  },
  "cells": [
    {
      "cell_type": "code",
      "metadata": {
        "colab": {
          "base_uri": "https://localhost:8080/"
        },
        "id": "lrYNOExI4ytf",
        "outputId": "b232ff6a-77c2-4663-b440-98cbb404d4fb"
      },
      "source": [
        "thislist = [\"orange\", \"mango\",\"kiwi\",\"pineapple\",\"banana\"]\n",
        "thislist.sort()\n",
        "print(thislist)"
      ],
      "execution_count": null,
      "outputs": [
        {
          "output_type": "stream",
          "text": [
            "['banana', 'kiwi', 'mango', 'orange', 'pineapple']\n"
          ],
          "name": "stdout"
        }
      ]
    },
    {
      "cell_type": "code",
      "metadata": {
        "colab": {
          "base_uri": "https://localhost:8080/"
        },
        "id": "s9GRc8yo4556",
        "outputId": "8a6187a3-0b65-4ec0-b304-b824df0adc61"
      },
      "source": [
        "thislist = [100,40,50,2,22,83,78]\n",
        "thislist.sort()\n",
        "print(thislist)"
      ],
      "execution_count": null,
      "outputs": [
        {
          "output_type": "stream",
          "text": [
            "[2, 22, 40, 50, 78, 83, 100]\n"
          ],
          "name": "stdout"
        }
      ]
    },
    {
      "cell_type": "code",
      "metadata": {
        "colab": {
          "base_uri": "https://localhost:8080/"
        },
        "id": "ZnHelF2O5K4K",
        "outputId": "02742817-8596-4583-8c5c-879c301b5459"
      },
      "source": [
        "thislist = [100,40,50,2,22,83,78]\n",
        "thislist.sort(reverse=True)\n",
        "print(thislist)"
      ],
      "execution_count": null,
      "outputs": [
        {
          "output_type": "stream",
          "text": [
            "[100, 83, 78, 50, 40, 22, 2]\n"
          ],
          "name": "stdout"
        }
      ]
    },
    {
      "cell_type": "code",
      "metadata": {
        "colab": {
          "base_uri": "https://localhost:8080/"
        },
        "id": "g7hkoSFp5Rml",
        "outputId": "1ab7b509-e637-4a1f-9a12-aefe89cbf07c"
      },
      "source": [
        "thislist = [\"orange\", \"mango\",\"kiwi\",\"pineapple\",\"banana\"]\n",
        "thislist.sort(reverse=True)\n",
        "print(thislist)"
      ],
      "execution_count": null,
      "outputs": [
        {
          "output_type": "stream",
          "text": [
            "['pineapple', 'orange', 'mango', 'kiwi', 'banana']\n"
          ],
          "name": "stdout"
        }
      ]
    },
    {
      "cell_type": "code",
      "metadata": {
        "colab": {
          "base_uri": "https://localhost:8080/"
        },
        "id": "nyH_9Ych5XIy",
        "outputId": "cd47c204-634f-4d4b-f8b0-09fa66ffe0af"
      },
      "source": [
        "thislist = [\"orange\", \"mango\",\"kiwi\",\"pineapple\",\"banana\"]\n",
        "newlist = thislist.copy()\n",
        "print(newlist)\n"
      ],
      "execution_count": null,
      "outputs": [
        {
          "output_type": "stream",
          "text": [
            "['orange', 'mango', 'kiwi', 'pineapple', 'banana']\n"
          ],
          "name": "stdout"
        }
      ]
    },
    {
      "cell_type": "code",
      "metadata": {
        "colab": {
          "base_uri": "https://localhost:8080/"
        },
        "id": "kI1wujpy55sI",
        "outputId": "f01fccbb-49b2-4186-97c6-bd13c713e0eb"
      },
      "source": [
        "thislist = [100,40,50,2,22,83,78]\n",
        "newlist = thislist.copy()\n",
        "print(newlist)"
      ],
      "execution_count": null,
      "outputs": [
        {
          "output_type": "stream",
          "text": [
            "[100, 40, 50, 2, 22, 83, 78]\n"
          ],
          "name": "stdout"
        }
      ]
    },
    {
      "cell_type": "code",
      "metadata": {
        "colab": {
          "base_uri": "https://localhost:8080/"
        },
        "id": "zsZCQJDy6Bgd",
        "outputId": "05492f3c-b74b-4236-ddd6-e7a50f39dda3"
      },
      "source": [
        "list1 = [\"orange\", \"mango\",\"kiwi\",\"pineapple\",\"banana\"]\n",
        "list2 = [100,40,50,2,22,83,78]\n",
        "list3 = list1 + list2\n",
        "print(list3)"
      ],
      "execution_count": null,
      "outputs": [
        {
          "output_type": "stream",
          "text": [
            "['orange', 'mango', 'kiwi', 'pineapple', 'banana', 100, 40, 50, 2, 22, 83, 78]\n"
          ],
          "name": "stdout"
        }
      ]
    },
    {
      "cell_type": "code",
      "metadata": {
        "colab": {
          "base_uri": "https://localhost:8080/"
        },
        "id": "P820qvjG6f5O",
        "outputId": "f83e1670-5cfe-4770-9b2a-ba2f459c0799"
      },
      "source": [
        "list1 = [\"orange\", \"mango\",\"kiwi\",\"pineapple\",\"banana\"]\n",
        "list2 = [100,40,50,2,22,83,78]\n",
        "for x in list2:\n",
        "  list1.append(x)\n",
        "print(list1)"
      ],
      "execution_count": null,
      "outputs": [
        {
          "output_type": "stream",
          "text": [
            "['orange', 'mango', 'kiwi', 'pineapple', 'banana', 100, 40, 50, 2, 22, 83, 78]\n"
          ],
          "name": "stdout"
        }
      ]
    },
    {
      "cell_type": "code",
      "metadata": {
        "colab": {
          "base_uri": "https://localhost:8080/"
        },
        "id": "BPHudAXL7AGL",
        "outputId": "990e5b04-c644-4ef7-9319-2e0d85e775e3"
      },
      "source": [
        "list1 = [\"orange\", \"mango\",\"kiwi\",\"pineapple\",\"banana\"]\n",
        "list2 = [100,40,50,2,22,83,78]\n",
        "list1.extend(list2)\n",
        "print(list1)"
      ],
      "execution_count": null,
      "outputs": [
        {
          "output_type": "stream",
          "text": [
            "['orange', 'mango', 'kiwi', 'pineapple', 'banana', 100, 40, 50, 2, 22, 83, 78]\n"
          ],
          "name": "stdout"
        }
      ]
    },
    {
      "cell_type": "code",
      "metadata": {
        "colab": {
          "base_uri": "https://localhost:8080/"
        },
        "id": "R6HS46V57Oc7",
        "outputId": "84db5adc-fafb-440f-c485-26bb1a814900"
      },
      "source": [
        "list1 = [\"a\", \"b\",\"c\",\"d\",\"e\"]\n",
        "list2 = [1,2,3,4,5,6]\n",
        "list3 = list1 + list2\n",
        "print(list3)"
      ],
      "execution_count": null,
      "outputs": [
        {
          "output_type": "stream",
          "text": [
            "['a', 'b', 'c', 'd', 'e', 1, 2, 3, 4, 5, 6]\n"
          ],
          "name": "stdout"
        }
      ]
    },
    {
      "cell_type": "code",
      "metadata": {
        "colab": {
          "base_uri": "https://localhost:8080/"
        },
        "id": "ESsQfiyx70bV",
        "outputId": "6e0ced30-4ad8-42a3-8c4d-0c6ee69a60ad"
      },
      "source": [
        "list1 = [\"a\", \"b\",\"c\",\"d\",\"e\"]\n",
        "list2 = [1,2,3,4,5,6]\n",
        "for x in list2:\n",
        "  list1.append(x)\n",
        "print(list1)"
      ],
      "execution_count": null,
      "outputs": [
        {
          "output_type": "stream",
          "text": [
            "['a', 'b', 'c', 'd', 'e', 1, 2, 3, 4, 5, 6]\n"
          ],
          "name": "stdout"
        }
      ]
    },
    {
      "cell_type": "code",
      "metadata": {
        "colab": {
          "base_uri": "https://localhost:8080/"
        },
        "id": "YiBTY8nv76iy",
        "outputId": "2e0879e0-a9cb-40eb-9048-713e92d91f76"
      },
      "source": [
        "list1 = [\"a\", \"b\",\"c\",\"d\",\"e\"]\n",
        "list2 = [1,2,3,4,5,6]\n",
        "list1.extend(list2)\n",
        "print(list1)"
      ],
      "execution_count": null,
      "outputs": [
        {
          "output_type": "stream",
          "text": [
            "['a', 'b', 'c', 'd', 'e', 1, 2, 3, 4, 5, 6]\n"
          ],
          "name": "stdout"
        }
      ]
    },
    {
      "cell_type": "code",
      "metadata": {
        "id": "D5wzepdM8LWj"
      },
      "source": [
        "list1 = [\"orange\", \"mango\",\"kiwi\",\"pineapple\",\"banana\"]\n",
        "#******"
      ],
      "execution_count": null,
      "outputs": []
    },
    {
      "cell_type": "code",
      "metadata": {
        "colab": {
          "base_uri": "https://localhost:8080/"
        },
        "id": "zqzUKud89k9n",
        "outputId": "eb7faef9-9b30-40f7-e58b-be67d1617010"
      },
      "source": [
        "print(list1)"
      ],
      "execution_count": null,
      "outputs": [
        {
          "output_type": "stream",
          "text": [
            "['orange', 'mango', 'kiwi', 'pineapple', 'banana']\n"
          ],
          "name": "stdout"
        }
      ]
    },
    {
      "cell_type": "code",
      "metadata": {
        "colab": {
          "base_uri": "https://localhost:8080/"
        },
        "id": "XGbwqAnj9sw7",
        "outputId": "c889ba3f-c8fa-42b8-e66b-c140ef191761"
      },
      "source": [
        "thistuple = (\"apple\",\"banana\",\"cherry\")\n",
        "print(thistuple)"
      ],
      "execution_count": null,
      "outputs": [
        {
          "output_type": "stream",
          "text": [
            "('apple', 'banana', 'cherry')\n"
          ],
          "name": "stdout"
        }
      ]
    },
    {
      "cell_type": "code",
      "metadata": {
        "colab": {
          "base_uri": "https://localhost:8080/"
        },
        "id": "pj7BGkjx-nXE",
        "outputId": "75f377f9-a8be-4ed9-cd53-62233df25755"
      },
      "source": [
        "thistuple = (\"apple\",\"banana\",\"cherry\",\"apple\",\"banana\",\"cherry\")\n",
        "print(thistuple)"
      ],
      "execution_count": null,
      "outputs": [
        {
          "output_type": "stream",
          "text": [
            "('apple', 'banana', 'cherry', 'apple', 'banana', 'cherry')\n"
          ],
          "name": "stdout"
        }
      ]
    },
    {
      "cell_type": "code",
      "metadata": {
        "colab": {
          "base_uri": "https://localhost:8080/"
        },
        "id": "N_GkQBbA-z_X",
        "outputId": "311b93a0-6f90-4646-c04f-aed3d6e61b96"
      },
      "source": [
        "thistuple = (\"apple\",\"banana\",\"cherry\",\"apple\",\"banana\",\"cherry\")\n",
        "print(len(thistuple))"
      ],
      "execution_count": null,
      "outputs": [
        {
          "output_type": "stream",
          "text": [
            "6\n"
          ],
          "name": "stdout"
        }
      ]
    },
    {
      "cell_type": "code",
      "metadata": {
        "colab": {
          "base_uri": "https://localhost:8080/"
        },
        "id": "_xfhgc4g_Cno",
        "outputId": "fea50188-772c-4b95-fde8-f2a3e85cde13"
      },
      "source": [
        "tuple1 = (\"orange\",\"mango\",\"kiwi\",\"pineapple\",\"banana\",)\n",
        "tuple2 = (100,40,50,2,22,83,78)\n",
        "tuple3 = (True,False,False)\n",
        "\n",
        "print(tuple1)\n",
        "print(tuple2)\n",
        "print(tuple3)"
      ],
      "execution_count": null,
      "outputs": [
        {
          "output_type": "stream",
          "text": [
            "('orange', 'mango', 'kiwi', 'pineapple', 'banana')\n",
            "(100, 40, 50, 2, 22, 83, 78)\n",
            "(True, False, False)\n"
          ],
          "name": "stdout"
        }
      ]
    },
    {
      "cell_type": "code",
      "metadata": {
        "id": "ibEX190g_6Be"
      },
      "source": [
        "tuple1 = (\"orange\",\"mango\",\"kiwi\",\"pineapple\",True,\"banana\",23)"
      ],
      "execution_count": null,
      "outputs": []
    },
    {
      "cell_type": "code",
      "metadata": {
        "colab": {
          "base_uri": "https://localhost:8080/"
        },
        "id": "GMmlVfzlACda",
        "outputId": "9be7e869-ade3-4d1d-f0bb-8306f34ba12b"
      },
      "source": [
        "print(type(tuple1))"
      ],
      "execution_count": null,
      "outputs": [
        {
          "output_type": "stream",
          "text": [
            "<class 'tuple'>\n"
          ],
          "name": "stdout"
        }
      ]
    },
    {
      "cell_type": "code",
      "metadata": {
        "colab": {
          "base_uri": "https://localhost:8080/"
        },
        "id": "FnEiBjOEAGIx",
        "outputId": "629b7aa1-6817-4611-c1ca-097ae04e8355"
      },
      "source": [
        "tuple1 = (\"orange\",23,\"pineapple\",\"banana\",True,\"34\")\n",
        "print(tuple1[4])"
      ],
      "execution_count": null,
      "outputs": [
        {
          "output_type": "stream",
          "text": [
            "True\n"
          ],
          "name": "stdout"
        }
      ]
    },
    {
      "cell_type": "code",
      "metadata": {
        "colab": {
          "base_uri": "https://localhost:8080/"
        },
        "id": "t__eWJmGBXO3",
        "outputId": "2c83e526-ef06-411e-dd7d-f7f216f2a293"
      },
      "source": [
        "tuple1 = (\"orange\",23,\"pineapple\",\"banana\",True,\"34\")\n",
        "print(tuple1[-2])"
      ],
      "execution_count": null,
      "outputs": [
        {
          "output_type": "stream",
          "text": [
            "True\n"
          ],
          "name": "stdout"
        }
      ]
    },
    {
      "cell_type": "code",
      "metadata": {
        "colab": {
          "base_uri": "https://localhost:8080/"
        },
        "id": "keQNWA2OBagb",
        "outputId": "5295ab07-1af5-4d94-8379-2f056e0b5ce9"
      },
      "source": [
        "tuple1 = (\"orange\",23,\"pineapple\",\"banana\",True,\"34\")\n",
        "print(tuple1[:4])"
      ],
      "execution_count": null,
      "outputs": [
        {
          "output_type": "stream",
          "text": [
            "('orange', 23, 'pineapple', 'banana')\n"
          ],
          "name": "stdout"
        }
      ]
    },
    {
      "cell_type": "code",
      "metadata": {
        "colab": {
          "base_uri": "https://localhost:8080/"
        },
        "id": "lkIB1opVBhoK",
        "outputId": "ab20c0a3-8b1c-401b-e1b9-865c6fdc92cf"
      },
      "source": [
        "tuple1 = (\"orange\",23,\"pineapple\",\"banana\",True,\"34\")\n",
        "print(tuple1[2:])"
      ],
      "execution_count": null,
      "outputs": [
        {
          "output_type": "stream",
          "text": [
            "('pineapple', 'banana', True, '34')\n"
          ],
          "name": "stdout"
        }
      ]
    },
    {
      "cell_type": "code",
      "metadata": {
        "id": "XWSjEMR1Bj4P"
      },
      "source": [
        "x = (\"apple\",\"banana\",\"cherry\")"
      ],
      "execution_count": null,
      "outputs": []
    },
    {
      "cell_type": "code",
      "metadata": {
        "colab": {
          "base_uri": "https://localhost:8080/"
        },
        "id": "SuaNKOdECZ13",
        "outputId": "2bccfc22-7b11-4a79-f196-81fae4109bdb"
      },
      "source": [
        "x = (\"apple\",\"banana\",\"cherry\")\n",
        "y = list(x)\n",
        "y[1] = \"kiwi\"\n",
        "x = tuple(y)\n",
        "print (x)"
      ],
      "execution_count": null,
      "outputs": [
        {
          "output_type": "stream",
          "text": [
            "('apple', 'kiwi', 'cherry')\n"
          ],
          "name": "stdout"
        }
      ]
    },
    {
      "cell_type": "code",
      "metadata": {
        "colab": {
          "base_uri": "https://localhost:8080/"
        },
        "id": "tq6aIjaTCkXR",
        "outputId": "dbfb1335-706a-44b5-a472-5db705a497c6"
      },
      "source": [
        "x = (\"apple\",\"banana\",\"cherry\")\n",
        "y = list(x)\n",
        "y.append(\"orange\")\n",
        "thistuple = tuple(y)\n",
        "\n",
        "print (thistuple)"
      ],
      "execution_count": null,
      "outputs": [
        {
          "output_type": "stream",
          "text": [
            "('apple', 'banana', 'cherry', 'orange')\n"
          ],
          "name": "stdout"
        }
      ]
    },
    {
      "cell_type": "code",
      "metadata": {
        "colab": {
          "base_uri": "https://localhost:8080/"
        },
        "id": "wu42GN7lDSaM",
        "outputId": "d40ddc82-5d24-4d86-fb3e-5d2fc5d77b23"
      },
      "source": [
        "x = (\"apple\",\"banana\",\"cherry\")\n",
        "y = list(x)\n",
        "y.remove(\"apple\")\n",
        "thistuple = tuple(y)\n",
        "print (thistuple)"
      ],
      "execution_count": null,
      "outputs": [
        {
          "output_type": "stream",
          "text": [
            "('banana', 'cherry')\n"
          ],
          "name": "stdout"
        }
      ]
    },
    {
      "cell_type": "code",
      "metadata": {
        "colab": {
          "base_uri": "https://localhost:8080/"
        },
        "id": "-9UlMfjdDpCZ",
        "outputId": "a5f5e32c-906a-4dd6-f9be-0eccf108ebfd"
      },
      "source": [
        "fruits = (\"apple\",\"banana\",\"cherry\")\n",
        "(green,yellow,red) = fruits\n",
        "print(green)\n",
        "print(yellow)\n",
        "print(red)"
      ],
      "execution_count": null,
      "outputs": [
        {
          "output_type": "stream",
          "text": [
            "apple\n",
            "banana\n",
            "cherry\n"
          ],
          "name": "stdout"
        }
      ]
    },
    {
      "cell_type": "code",
      "metadata": {
        "colab": {
          "base_uri": "https://localhost:8080/"
        },
        "id": "iwfC0lLfFD3_",
        "outputId": "f2af8b78-8716-4552-c15a-c6a1c4f5eb2c"
      },
      "source": [
        "fruits = (\"apple\",\"banana\",\"cherry\",\"orange\",\"mango\")\n",
        "(green,*yellow,red) = fruits\n",
        "print(green)\n",
        "print(yellow)\n",
        "print(red)"
      ],
      "execution_count": null,
      "outputs": [
        {
          "output_type": "stream",
          "text": [
            "apple\n",
            "['banana', 'cherry', 'orange']\n",
            "mango\n"
          ],
          "name": "stdout"
        }
      ]
    },
    {
      "cell_type": "code",
      "metadata": {
        "colab": {
          "base_uri": "https://localhost:8080/"
        },
        "id": "V7XodsYzGGSv",
        "outputId": "072691b7-8208-4f33-f666-ad8319c4ae7e"
      },
      "source": [
        "fruits = (\"apple\",\"banana\",\"cherry\",\"orange\",\"mango\")\n",
        "for x in fruits:\n",
        "  print(x)"
      ],
      "execution_count": null,
      "outputs": [
        {
          "output_type": "stream",
          "text": [
            "apple\n",
            "banana\n",
            "cherry\n",
            "orange\n",
            "mango\n"
          ],
          "name": "stdout"
        }
      ]
    },
    {
      "cell_type": "code",
      "metadata": {
        "colab": {
          "base_uri": "https://localhost:8080/"
        },
        "id": "aJzayHjGG5Qx",
        "outputId": "5bf216aa-35fe-4bc2-d0d8-4fed67e36f0c"
      },
      "source": [
        "fruits = (\"apple\",\"banana\",\"cherry\",\"orange\",\"mango\")\n",
        "for i in range(len(fruits)):\n",
        "  print(fruits[i])"
      ],
      "execution_count": null,
      "outputs": [
        {
          "output_type": "stream",
          "text": [
            "apple\n",
            "banana\n",
            "cherry\n",
            "orange\n",
            "mango\n"
          ],
          "name": "stdout"
        }
      ]
    },
    {
      "cell_type": "code",
      "metadata": {
        "id": "1HioGhpWHRLO"
      },
      "source": [
        ""
      ],
      "execution_count": null,
      "outputs": []
    }
  ]
}