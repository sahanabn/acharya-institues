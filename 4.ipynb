{
  "nbformat": 4,
  "nbformat_minor": 0,
  "metadata": {
    "colab": {
      "name": "Prog8.ipynb",
      "provenance": []
    },
    "kernelspec": {
      "name": "python3",
      "display_name": "Python 3"
    }
  },
  "cells": [
    {
      "cell_type": "code",
      "metadata": {
        "colab": {
          "base_uri": "https://localhost:8080/",
          "height": 359
        },
        "id": "tINR2nsyzzLz",
        "outputId": "0a882045-ebb9-4857-a113-5caa8302acdb"
      },
      "source": [
        "import pandas as pd\n",
        "file_name = \"/content/amazon_fires.csv\"\n",
        "df = pd.read_csv(file_name, encoding = \"ISO-8859-1\")\n",
        "df.head(10)\n"
      ],
      "execution_count": null,
      "outputs": [
        {
          "output_type": "execute_result",
          "data": {
            "text/html": [
              "<div>\n",
              "<style scoped>\n",
              "    .dataframe tbody tr th:only-of-type {\n",
              "        vertical-align: middle;\n",
              "    }\n",
              "\n",
              "    .dataframe tbody tr th {\n",
              "        vertical-align: top;\n",
              "    }\n",
              "\n",
              "    .dataframe thead th {\n",
              "        text-align: right;\n",
              "    }\n",
              "</style>\n",
              "<table border=\"1\" class=\"dataframe\">\n",
              "  <thead>\n",
              "    <tr style=\"text-align: right;\">\n",
              "      <th></th>\n",
              "      <th>ano</th>\n",
              "      <th>mes</th>\n",
              "      <th>estado</th>\n",
              "      <th>numero</th>\n",
              "      <th>encontro</th>\n",
              "    </tr>\n",
              "  </thead>\n",
              "  <tbody>\n",
              "    <tr>\n",
              "      <th>0</th>\n",
              "      <td>1998</td>\n",
              "      <td>Janeiro</td>\n",
              "      <td>Acre</td>\n",
              "      <td>0 Fires</td>\n",
              "      <td>01-01-1998</td>\n",
              "    </tr>\n",
              "    <tr>\n",
              "      <th>1</th>\n",
              "      <td>1999</td>\n",
              "      <td>Janeiro</td>\n",
              "      <td>Acre</td>\n",
              "      <td>0 Fires</td>\n",
              "      <td>01-01-1999</td>\n",
              "    </tr>\n",
              "    <tr>\n",
              "      <th>2</th>\n",
              "      <td>2000</td>\n",
              "      <td>Janeiro</td>\n",
              "      <td>Acre</td>\n",
              "      <td>0 Fires</td>\n",
              "      <td>01-01-2000</td>\n",
              "    </tr>\n",
              "    <tr>\n",
              "      <th>3</th>\n",
              "      <td>2001</td>\n",
              "      <td>Janeiro</td>\n",
              "      <td>Acre</td>\n",
              "      <td>0 Fires</td>\n",
              "      <td>01-01-2001</td>\n",
              "    </tr>\n",
              "    <tr>\n",
              "      <th>4</th>\n",
              "      <td>2002</td>\n",
              "      <td>Janeiro</td>\n",
              "      <td>Acre</td>\n",
              "      <td>0 Fires</td>\n",
              "      <td>01-01-2002</td>\n",
              "    </tr>\n",
              "    <tr>\n",
              "      <th>5</th>\n",
              "      <td>2003</td>\n",
              "      <td>Janeiro</td>\n",
              "      <td>Acre</td>\n",
              "      <td>10 Fires</td>\n",
              "      <td>01-01-2003</td>\n",
              "    </tr>\n",
              "    <tr>\n",
              "      <th>6</th>\n",
              "      <td>2004</td>\n",
              "      <td>Janeiro</td>\n",
              "      <td>Acre</td>\n",
              "      <td>0 Fires</td>\n",
              "      <td>01-01-2004</td>\n",
              "    </tr>\n",
              "    <tr>\n",
              "      <th>7</th>\n",
              "      <td>2005</td>\n",
              "      <td>Janeiro</td>\n",
              "      <td>Acre</td>\n",
              "      <td>12 Fires</td>\n",
              "      <td>01-01-2005</td>\n",
              "    </tr>\n",
              "    <tr>\n",
              "      <th>8</th>\n",
              "      <td>2006</td>\n",
              "      <td>Janeiro</td>\n",
              "      <td>Acre</td>\n",
              "      <td>4 Fires</td>\n",
              "      <td>01-01-2006</td>\n",
              "    </tr>\n",
              "    <tr>\n",
              "      <th>9</th>\n",
              "      <td>2007</td>\n",
              "      <td>Janeiro</td>\n",
              "      <td>Acre</td>\n",
              "      <td>0 Fires</td>\n",
              "      <td>01-01-2007</td>\n",
              "    </tr>\n",
              "  </tbody>\n",
              "</table>\n",
              "</div>"
            ],
            "text/plain": [
              "    ano      mes estado    numero    encontro\n",
              "0  1998  Janeiro   Acre   0 Fires  01-01-1998\n",
              "1  1999  Janeiro   Acre   0 Fires  01-01-1999\n",
              "2  2000  Janeiro   Acre   0 Fires  01-01-2000\n",
              "3  2001  Janeiro   Acre   0 Fires  01-01-2001\n",
              "4  2002  Janeiro   Acre   0 Fires  01-01-2002\n",
              "5  2003  Janeiro   Acre  10 Fires  01-01-2003\n",
              "6  2004  Janeiro   Acre   0 Fires  01-01-2004\n",
              "7  2005  Janeiro   Acre  12 Fires  01-01-2005\n",
              "8  2006  Janeiro   Acre   4 Fires  01-01-2006\n",
              "9  2007  Janeiro   Acre   0 Fires  01-01-2007"
            ]
          },
          "metadata": {
            "tags": []
          },
          "execution_count": 4
        }
      ]
    },
    {
      "cell_type": "code",
      "metadata": {
        "colab": {
          "base_uri": "https://localhost:8080/",
          "height": 204
        },
        "id": "aIOi9qvw1V51",
        "outputId": "ff2f1fb1-0a2f-4d3c-ba4d-cafd68c04297"
      },
      "source": [
        "df.tail()"
      ],
      "execution_count": null,
      "outputs": [
        {
          "output_type": "execute_result",
          "data": {
            "text/html": [
              "<div>\n",
              "<style scoped>\n",
              "    .dataframe tbody tr th:only-of-type {\n",
              "        vertical-align: middle;\n",
              "    }\n",
              "\n",
              "    .dataframe tbody tr th {\n",
              "        vertical-align: top;\n",
              "    }\n",
              "\n",
              "    .dataframe thead th {\n",
              "        text-align: right;\n",
              "    }\n",
              "</style>\n",
              "<table border=\"1\" class=\"dataframe\">\n",
              "  <thead>\n",
              "    <tr style=\"text-align: right;\">\n",
              "      <th></th>\n",
              "      <th>ano</th>\n",
              "      <th>mes</th>\n",
              "      <th>estado</th>\n",
              "      <th>numero</th>\n",
              "      <th>encontro</th>\n",
              "    </tr>\n",
              "  </thead>\n",
              "  <tbody>\n",
              "    <tr>\n",
              "      <th>510</th>\n",
              "      <td>2009</td>\n",
              "      <td>Fevereiro</td>\n",
              "      <td>Amapa</td>\n",
              "      <td>0</td>\n",
              "      <td>01-01-2009</td>\n",
              "    </tr>\n",
              "    <tr>\n",
              "      <th>511</th>\n",
              "      <td>2010</td>\n",
              "      <td>Fevereiro</td>\n",
              "      <td>Amapa</td>\n",
              "      <td>0</td>\n",
              "      <td>01-01-2010</td>\n",
              "    </tr>\n",
              "    <tr>\n",
              "      <th>512</th>\n",
              "      <td>2011</td>\n",
              "      <td>Fevereiro</td>\n",
              "      <td>Amapa</td>\n",
              "      <td>3</td>\n",
              "      <td>01-01-2011</td>\n",
              "    </tr>\n",
              "    <tr>\n",
              "      <th>513</th>\n",
              "      <td>2012</td>\n",
              "      <td>Fevereiro</td>\n",
              "      <td>Amapa</td>\n",
              "      <td>5</td>\n",
              "      <td>01-01-2012</td>\n",
              "    </tr>\n",
              "    <tr>\n",
              "      <th>514</th>\n",
              "      <td>2013</td>\n",
              "      <td>Fevereiro</td>\n",
              "      <td>Amapa</td>\n",
              "      <td>0</td>\n",
              "      <td>01-01-2013</td>\n",
              "    </tr>\n",
              "  </tbody>\n",
              "</table>\n",
              "</div>"
            ],
            "text/plain": [
              "      ano        mes estado numero    encontro\n",
              "510  2009  Fevereiro  Amapa      0  01-01-2009\n",
              "511  2010  Fevereiro  Amapa      0  01-01-2010\n",
              "512  2011  Fevereiro  Amapa      3  01-01-2011\n",
              "513  2012  Fevereiro  Amapa      5  01-01-2012\n",
              "514  2013  Fevereiro  Amapa      0  01-01-2013"
            ]
          },
          "metadata": {
            "tags": []
          },
          "execution_count": 5
        }
      ]
    },
    {
      "cell_type": "code",
      "metadata": {
        "colab": {
          "base_uri": "https://localhost:8080/"
        },
        "id": "17-tnzQG11G0",
        "outputId": "13cf4441-cca4-45aa-9878-4b84fbc2d874"
      },
      "source": [
        "df['estado'].unique()"
      ],
      "execution_count": null,
      "outputs": [
        {
          "output_type": "execute_result",
          "data": {
            "text/plain": [
              "array(['Acre', 'alagoas', 'Amapa'], dtype=object)"
            ]
          },
          "metadata": {
            "tags": []
          },
          "execution_count": 6
        }
      ]
    },
    {
      "cell_type": "markdown",
      "metadata": {
        "id": "AJ-q4Qyr793E"
      },
      "source": [
        "Rename Columns"
      ]
    },
    {
      "cell_type": "code",
      "metadata": {
        "id": "1e6PwWaQ8Dqt"
      },
      "source": [
        "new_columns = {'ano':'year',\n",
        "               'estado': 'state',\n",
        "               'mes':'month',\n",
        "               'numero':'number_of_fires',\n",
        "               'encontro':'date'}\n",
        "df.rename(columns=new_columns, inplace=True)"
      ],
      "execution_count": null,
      "outputs": []
    },
    {
      "cell_type": "code",
      "metadata": {
        "colab": {
          "base_uri": "https://localhost:8080/",
          "height": 204
        },
        "id": "7Ub9mfeq9Acg",
        "outputId": "54313d50-8767-4fb0-c546-56eb15bca2cf"
      },
      "source": [
        "df.head()"
      ],
      "execution_count": null,
      "outputs": [
        {
          "output_type": "execute_result",
          "data": {
            "text/html": [
              "<div>\n",
              "<style scoped>\n",
              "    .dataframe tbody tr th:only-of-type {\n",
              "        vertical-align: middle;\n",
              "    }\n",
              "\n",
              "    .dataframe tbody tr th {\n",
              "        vertical-align: top;\n",
              "    }\n",
              "\n",
              "    .dataframe thead th {\n",
              "        text-align: right;\n",
              "    }\n",
              "</style>\n",
              "<table border=\"1\" class=\"dataframe\">\n",
              "  <thead>\n",
              "    <tr style=\"text-align: right;\">\n",
              "      <th></th>\n",
              "      <th>year</th>\n",
              "      <th>month</th>\n",
              "      <th>state</th>\n",
              "      <th>number_of_fires</th>\n",
              "      <th>date</th>\n",
              "    </tr>\n",
              "  </thead>\n",
              "  <tbody>\n",
              "    <tr>\n",
              "      <th>0</th>\n",
              "      <td>1998</td>\n",
              "      <td>Janeiro</td>\n",
              "      <td>Acre</td>\n",
              "      <td>0 Fires</td>\n",
              "      <td>01-01-1998</td>\n",
              "    </tr>\n",
              "    <tr>\n",
              "      <th>1</th>\n",
              "      <td>1999</td>\n",
              "      <td>Janeiro</td>\n",
              "      <td>Acre</td>\n",
              "      <td>0 Fires</td>\n",
              "      <td>01-01-1999</td>\n",
              "    </tr>\n",
              "    <tr>\n",
              "      <th>2</th>\n",
              "      <td>2000</td>\n",
              "      <td>Janeiro</td>\n",
              "      <td>Acre</td>\n",
              "      <td>0 Fires</td>\n",
              "      <td>01-01-2000</td>\n",
              "    </tr>\n",
              "    <tr>\n",
              "      <th>3</th>\n",
              "      <td>2001</td>\n",
              "      <td>Janeiro</td>\n",
              "      <td>Acre</td>\n",
              "      <td>0 Fires</td>\n",
              "      <td>01-01-2001</td>\n",
              "    </tr>\n",
              "    <tr>\n",
              "      <th>4</th>\n",
              "      <td>2002</td>\n",
              "      <td>Janeiro</td>\n",
              "      <td>Acre</td>\n",
              "      <td>0 Fires</td>\n",
              "      <td>01-01-2002</td>\n",
              "    </tr>\n",
              "  </tbody>\n",
              "</table>\n",
              "</div>"
            ],
            "text/plain": [
              "   year    month state number_of_fires        date\n",
              "0  1998  Janeiro  Acre         0 Fires  01-01-1998\n",
              "1  1999  Janeiro  Acre         0 Fires  01-01-1999\n",
              "2  2000  Janeiro  Acre         0 Fires  01-01-2000\n",
              "3  2001  Janeiro  Acre         0 Fires  01-01-2001\n",
              "4  2002  Janeiro  Acre         0 Fires  01-01-2002"
            ]
          },
          "metadata": {
            "tags": []
          },
          "execution_count": 8
        }
      ]
    },
    {
      "cell_type": "code",
      "metadata": {
        "colab": {
          "base_uri": "https://localhost:8080/"
        },
        "id": "N8rOOaVa9Cl5",
        "outputId": "815654e1-c62d-44e7-c167-06f351af174a"
      },
      "source": [
        "df['year'].unique()"
      ],
      "execution_count": null,
      "outputs": [
        {
          "output_type": "execute_result",
          "data": {
            "text/plain": [
              "array([1998, 1999, 2000, 2001, 2002, 2003, 2004, 2005, 2006, 2007, 2008,\n",
              "       2009, 2010, 2011, 2012, 2013, 2014, 2015, 2016, 2017])"
            ]
          },
          "metadata": {
            "tags": []
          },
          "execution_count": 9
        }
      ]
    },
    {
      "cell_type": "code",
      "metadata": {
        "colab": {
          "base_uri": "https://localhost:8080/"
        },
        "id": "7stt_E6--JrM",
        "outputId": "a65409ae-8e67-4002-8379-603a2b56b7a5"
      },
      "source": [
        "df.info()"
      ],
      "execution_count": null,
      "outputs": [
        {
          "output_type": "stream",
          "text": [
            "<class 'pandas.core.frame.DataFrame'>\n",
            "RangeIndex: 515 entries, 0 to 514\n",
            "Data columns (total 5 columns):\n",
            " #   Column           Non-Null Count  Dtype \n",
            "---  ------           --------------  ----- \n",
            " 0   year             515 non-null    int64 \n",
            " 1   month            515 non-null    object\n",
            " 2   state            515 non-null    object\n",
            " 3   number_of_fires  510 non-null    object\n",
            " 4   date             515 non-null    object\n",
            "dtypes: int64(1), object(4)\n",
            "memory usage: 20.2+ KB\n"
          ],
          "name": "stdout"
        }
      ]
    },
    {
      "cell_type": "code",
      "metadata": {
        "colab": {
          "base_uri": "https://localhost:8080/",
          "height": 202
        },
        "id": "5JXF38RA-VIf",
        "outputId": "53f25597-42f8-4f2f-e256-450e82cf47cd"
      },
      "source": [
        "df.head()"
      ],
      "execution_count": null,
      "outputs": [
        {
          "output_type": "execute_result",
          "data": {
            "text/html": [
              "<div>\n",
              "<style scoped>\n",
              "    .dataframe tbody tr th:only-of-type {\n",
              "        vertical-align: middle;\n",
              "    }\n",
              "\n",
              "    .dataframe tbody tr th {\n",
              "        vertical-align: top;\n",
              "    }\n",
              "\n",
              "    .dataframe thead th {\n",
              "        text-align: right;\n",
              "    }\n",
              "</style>\n",
              "<table border=\"1\" class=\"dataframe\">\n",
              "  <thead>\n",
              "    <tr style=\"text-align: right;\">\n",
              "      <th></th>\n",
              "      <th>year</th>\n",
              "      <th>month</th>\n",
              "      <th>state</th>\n",
              "      <th>number_of_fires</th>\n",
              "      <th>date</th>\n",
              "    </tr>\n",
              "  </thead>\n",
              "  <tbody>\n",
              "    <tr>\n",
              "      <th>0</th>\n",
              "      <td>1998</td>\n",
              "      <td>Janeiro</td>\n",
              "      <td>Acre</td>\n",
              "      <td>0 Fires</td>\n",
              "      <td>01-01-1998</td>\n",
              "    </tr>\n",
              "    <tr>\n",
              "      <th>1</th>\n",
              "      <td>1999</td>\n",
              "      <td>Janeiro</td>\n",
              "      <td>Acre</td>\n",
              "      <td>0 Fires</td>\n",
              "      <td>01-01-1999</td>\n",
              "    </tr>\n",
              "    <tr>\n",
              "      <th>2</th>\n",
              "      <td>2000</td>\n",
              "      <td>Janeiro</td>\n",
              "      <td>Acre</td>\n",
              "      <td>0 Fires</td>\n",
              "      <td>01-01-2000</td>\n",
              "    </tr>\n",
              "    <tr>\n",
              "      <th>3</th>\n",
              "      <td>2001</td>\n",
              "      <td>Janeiro</td>\n",
              "      <td>Acre</td>\n",
              "      <td>0 Fires</td>\n",
              "      <td>01-01-2001</td>\n",
              "    </tr>\n",
              "    <tr>\n",
              "      <th>4</th>\n",
              "      <td>2002</td>\n",
              "      <td>Janeiro</td>\n",
              "      <td>Acre</td>\n",
              "      <td>0 Fires</td>\n",
              "      <td>01-01-2002</td>\n",
              "    </tr>\n",
              "  </tbody>\n",
              "</table>\n",
              "</div>"
            ],
            "text/plain": [
              "   year    month state number_of_fires        date\n",
              "0  1998  Janeiro  Acre         0 Fires  01-01-1998\n",
              "1  1999  Janeiro  Acre         0 Fires  01-01-1999\n",
              "2  2000  Janeiro  Acre         0 Fires  01-01-2000\n",
              "3  2001  Janeiro  Acre         0 Fires  01-01-2001\n",
              "4  2002  Janeiro  Acre         0 Fires  01-01-2002"
            ]
          },
          "metadata": {
            "tags": []
          },
          "execution_count": 9
        }
      ]
    },
    {
      "cell_type": "code",
      "metadata": {
        "id": "1gOxHhdk-ce0",
        "colab": {
          "base_uri": "https://localhost:8080/",
          "height": 202
        },
        "outputId": "e537e1e6-24fe-45b3-ce70-03e7ac20898a"
      },
      "source": [
        "new_order =[4,1,0,2,3]\n",
        "df = df[df.columns[new_order]]\n",
        "df.head()"
      ],
      "execution_count": null,
      "outputs": [
        {
          "output_type": "execute_result",
          "data": {
            "text/html": [
              "<div>\n",
              "<style scoped>\n",
              "    .dataframe tbody tr th:only-of-type {\n",
              "        vertical-align: middle;\n",
              "    }\n",
              "\n",
              "    .dataframe tbody tr th {\n",
              "        vertical-align: top;\n",
              "    }\n",
              "\n",
              "    .dataframe thead th {\n",
              "        text-align: right;\n",
              "    }\n",
              "</style>\n",
              "<table border=\"1\" class=\"dataframe\">\n",
              "  <thead>\n",
              "    <tr style=\"text-align: right;\">\n",
              "      <th></th>\n",
              "      <th>number_of_fires</th>\n",
              "      <th>month</th>\n",
              "      <th>date</th>\n",
              "      <th>year</th>\n",
              "      <th>state</th>\n",
              "    </tr>\n",
              "  </thead>\n",
              "  <tbody>\n",
              "    <tr>\n",
              "      <th>0</th>\n",
              "      <td>0 Fires</td>\n",
              "      <td>Janeiro</td>\n",
              "      <td>01-01-1998</td>\n",
              "      <td>1998</td>\n",
              "      <td>Acre</td>\n",
              "    </tr>\n",
              "    <tr>\n",
              "      <th>1</th>\n",
              "      <td>0 Fires</td>\n",
              "      <td>Janeiro</td>\n",
              "      <td>01-01-1999</td>\n",
              "      <td>1999</td>\n",
              "      <td>Acre</td>\n",
              "    </tr>\n",
              "    <tr>\n",
              "      <th>2</th>\n",
              "      <td>0 Fires</td>\n",
              "      <td>Janeiro</td>\n",
              "      <td>01-01-2000</td>\n",
              "      <td>2000</td>\n",
              "      <td>Acre</td>\n",
              "    </tr>\n",
              "    <tr>\n",
              "      <th>3</th>\n",
              "      <td>0 Fires</td>\n",
              "      <td>Janeiro</td>\n",
              "      <td>01-01-2001</td>\n",
              "      <td>2001</td>\n",
              "      <td>Acre</td>\n",
              "    </tr>\n",
              "    <tr>\n",
              "      <th>4</th>\n",
              "      <td>0 Fires</td>\n",
              "      <td>Janeiro</td>\n",
              "      <td>01-01-2002</td>\n",
              "      <td>2002</td>\n",
              "      <td>Acre</td>\n",
              "    </tr>\n",
              "  </tbody>\n",
              "</table>\n",
              "</div>"
            ],
            "text/plain": [
              "  number_of_fires    month        date  year state\n",
              "0         0 Fires  Janeiro  01-01-1998  1998  Acre\n",
              "1         0 Fires  Janeiro  01-01-1999  1999  Acre\n",
              "2         0 Fires  Janeiro  01-01-2000  2000  Acre\n",
              "3         0 Fires  Janeiro  01-01-2001  2001  Acre\n",
              "4         0 Fires  Janeiro  01-01-2002  2002  Acre"
            ]
          },
          "metadata": {
            "tags": []
          },
          "execution_count": 11
        }
      ]
    },
    {
      "cell_type": "code",
      "metadata": {
        "colab": {
          "base_uri": "https://localhost:8080/",
          "height": 355
        },
        "id": "9ISxr29kBmFk",
        "outputId": "36d63189-2c3b-49d1-fd43-cb4e58ac437e"
      },
      "source": [
        "df.head(10)"
      ],
      "execution_count": null,
      "outputs": [
        {
          "output_type": "execute_result",
          "data": {
            "text/html": [
              "<div>\n",
              "<style scoped>\n",
              "    .dataframe tbody tr th:only-of-type {\n",
              "        vertical-align: middle;\n",
              "    }\n",
              "\n",
              "    .dataframe tbody tr th {\n",
              "        vertical-align: top;\n",
              "    }\n",
              "\n",
              "    .dataframe thead th {\n",
              "        text-align: right;\n",
              "    }\n",
              "</style>\n",
              "<table border=\"1\" class=\"dataframe\">\n",
              "  <thead>\n",
              "    <tr style=\"text-align: right;\">\n",
              "      <th></th>\n",
              "      <th>number_of_fires</th>\n",
              "      <th>month</th>\n",
              "      <th>date</th>\n",
              "      <th>year</th>\n",
              "      <th>state</th>\n",
              "    </tr>\n",
              "  </thead>\n",
              "  <tbody>\n",
              "    <tr>\n",
              "      <th>0</th>\n",
              "      <td>0 Fires</td>\n",
              "      <td>Janeiro</td>\n",
              "      <td>01-01-1998</td>\n",
              "      <td>1998</td>\n",
              "      <td>Acre</td>\n",
              "    </tr>\n",
              "    <tr>\n",
              "      <th>1</th>\n",
              "      <td>0 Fires</td>\n",
              "      <td>Janeiro</td>\n",
              "      <td>01-01-1999</td>\n",
              "      <td>1999</td>\n",
              "      <td>Acre</td>\n",
              "    </tr>\n",
              "    <tr>\n",
              "      <th>2</th>\n",
              "      <td>0 Fires</td>\n",
              "      <td>Janeiro</td>\n",
              "      <td>01-01-2000</td>\n",
              "      <td>2000</td>\n",
              "      <td>Acre</td>\n",
              "    </tr>\n",
              "    <tr>\n",
              "      <th>3</th>\n",
              "      <td>0 Fires</td>\n",
              "      <td>Janeiro</td>\n",
              "      <td>01-01-2001</td>\n",
              "      <td>2001</td>\n",
              "      <td>Acre</td>\n",
              "    </tr>\n",
              "    <tr>\n",
              "      <th>4</th>\n",
              "      <td>0 Fires</td>\n",
              "      <td>Janeiro</td>\n",
              "      <td>01-01-2002</td>\n",
              "      <td>2002</td>\n",
              "      <td>Acre</td>\n",
              "    </tr>\n",
              "    <tr>\n",
              "      <th>5</th>\n",
              "      <td>10 Fires</td>\n",
              "      <td>Janeiro</td>\n",
              "      <td>01-01-2003</td>\n",
              "      <td>2003</td>\n",
              "      <td>Acre</td>\n",
              "    </tr>\n",
              "    <tr>\n",
              "      <th>6</th>\n",
              "      <td>0 Fires</td>\n",
              "      <td>Janeiro</td>\n",
              "      <td>01-01-2004</td>\n",
              "      <td>2004</td>\n",
              "      <td>Acre</td>\n",
              "    </tr>\n",
              "    <tr>\n",
              "      <th>7</th>\n",
              "      <td>12 Fires</td>\n",
              "      <td>Janeiro</td>\n",
              "      <td>01-01-2005</td>\n",
              "      <td>2005</td>\n",
              "      <td>Acre</td>\n",
              "    </tr>\n",
              "    <tr>\n",
              "      <th>8</th>\n",
              "      <td>4 Fires</td>\n",
              "      <td>Janeiro</td>\n",
              "      <td>01-01-2006</td>\n",
              "      <td>2006</td>\n",
              "      <td>Acre</td>\n",
              "    </tr>\n",
              "    <tr>\n",
              "      <th>9</th>\n",
              "      <td>0 Fires</td>\n",
              "      <td>Janeiro</td>\n",
              "      <td>01-01-2007</td>\n",
              "      <td>2007</td>\n",
              "      <td>Acre</td>\n",
              "    </tr>\n",
              "  </tbody>\n",
              "</table>\n",
              "</div>"
            ],
            "text/plain": [
              "  number_of_fires    month        date  year state\n",
              "0         0 Fires  Janeiro  01-01-1998  1998  Acre\n",
              "1         0 Fires  Janeiro  01-01-1999  1999  Acre\n",
              "2         0 Fires  Janeiro  01-01-2000  2000  Acre\n",
              "3         0 Fires  Janeiro  01-01-2001  2001  Acre\n",
              "4         0 Fires  Janeiro  01-01-2002  2002  Acre\n",
              "5        10 Fires  Janeiro  01-01-2003  2003  Acre\n",
              "6         0 Fires  Janeiro  01-01-2004  2004  Acre\n",
              "7        12 Fires  Janeiro  01-01-2005  2005  Acre\n",
              "8         4 Fires  Janeiro  01-01-2006  2006  Acre\n",
              "9         0 Fires  Janeiro  01-01-2007  2007  Acre"
            ]
          },
          "metadata": {
            "tags": []
          },
          "execution_count": 12
        }
      ]
    },
    {
      "cell_type": "code",
      "metadata": {
        "colab": {
          "base_uri": "https://localhost:8080/",
          "height": 815
        },
        "id": "ngnUt0LHB7rI",
        "outputId": "cbb6bc04-7259-4e10-d155-ba0dfe2b8446"
      },
      "source": [
        "df.head(25)"
      ],
      "execution_count": null,
      "outputs": [
        {
          "output_type": "execute_result",
          "data": {
            "text/html": [
              "<div>\n",
              "<style scoped>\n",
              "    .dataframe tbody tr th:only-of-type {\n",
              "        vertical-align: middle;\n",
              "    }\n",
              "\n",
              "    .dataframe tbody tr th {\n",
              "        vertical-align: top;\n",
              "    }\n",
              "\n",
              "    .dataframe thead th {\n",
              "        text-align: right;\n",
              "    }\n",
              "</style>\n",
              "<table border=\"1\" class=\"dataframe\">\n",
              "  <thead>\n",
              "    <tr style=\"text-align: right;\">\n",
              "      <th></th>\n",
              "      <th>number_of_fires</th>\n",
              "      <th>month</th>\n",
              "      <th>date</th>\n",
              "      <th>year</th>\n",
              "      <th>state</th>\n",
              "    </tr>\n",
              "  </thead>\n",
              "  <tbody>\n",
              "    <tr>\n",
              "      <th>0</th>\n",
              "      <td>0 Fires</td>\n",
              "      <td>Janeiro</td>\n",
              "      <td>01-01-1998</td>\n",
              "      <td>1998</td>\n",
              "      <td>Acre</td>\n",
              "    </tr>\n",
              "    <tr>\n",
              "      <th>1</th>\n",
              "      <td>0 Fires</td>\n",
              "      <td>Janeiro</td>\n",
              "      <td>01-01-1999</td>\n",
              "      <td>1999</td>\n",
              "      <td>Acre</td>\n",
              "    </tr>\n",
              "    <tr>\n",
              "      <th>2</th>\n",
              "      <td>0 Fires</td>\n",
              "      <td>Janeiro</td>\n",
              "      <td>01-01-2000</td>\n",
              "      <td>2000</td>\n",
              "      <td>Acre</td>\n",
              "    </tr>\n",
              "    <tr>\n",
              "      <th>3</th>\n",
              "      <td>0 Fires</td>\n",
              "      <td>Janeiro</td>\n",
              "      <td>01-01-2001</td>\n",
              "      <td>2001</td>\n",
              "      <td>Acre</td>\n",
              "    </tr>\n",
              "    <tr>\n",
              "      <th>4</th>\n",
              "      <td>0 Fires</td>\n",
              "      <td>Janeiro</td>\n",
              "      <td>01-01-2002</td>\n",
              "      <td>2002</td>\n",
              "      <td>Acre</td>\n",
              "    </tr>\n",
              "    <tr>\n",
              "      <th>5</th>\n",
              "      <td>10 Fires</td>\n",
              "      <td>Janeiro</td>\n",
              "      <td>01-01-2003</td>\n",
              "      <td>2003</td>\n",
              "      <td>Acre</td>\n",
              "    </tr>\n",
              "    <tr>\n",
              "      <th>6</th>\n",
              "      <td>0 Fires</td>\n",
              "      <td>Janeiro</td>\n",
              "      <td>01-01-2004</td>\n",
              "      <td>2004</td>\n",
              "      <td>Acre</td>\n",
              "    </tr>\n",
              "    <tr>\n",
              "      <th>7</th>\n",
              "      <td>12 Fires</td>\n",
              "      <td>Janeiro</td>\n",
              "      <td>01-01-2005</td>\n",
              "      <td>2005</td>\n",
              "      <td>Acre</td>\n",
              "    </tr>\n",
              "    <tr>\n",
              "      <th>8</th>\n",
              "      <td>4 Fires</td>\n",
              "      <td>Janeiro</td>\n",
              "      <td>01-01-2006</td>\n",
              "      <td>2006</td>\n",
              "      <td>Acre</td>\n",
              "    </tr>\n",
              "    <tr>\n",
              "      <th>9</th>\n",
              "      <td>0 Fires</td>\n",
              "      <td>Janeiro</td>\n",
              "      <td>01-01-2007</td>\n",
              "      <td>2007</td>\n",
              "      <td>Acre</td>\n",
              "    </tr>\n",
              "    <tr>\n",
              "      <th>10</th>\n",
              "      <td>0 Fires</td>\n",
              "      <td>Janeiro</td>\n",
              "      <td>01-01-2008</td>\n",
              "      <td>2008</td>\n",
              "      <td>Acre</td>\n",
              "    </tr>\n",
              "    <tr>\n",
              "      <th>11</th>\n",
              "      <td>0 Fires</td>\n",
              "      <td>Janeiro</td>\n",
              "      <td>01-01-2009</td>\n",
              "      <td>2009</td>\n",
              "      <td>Acre</td>\n",
              "    </tr>\n",
              "    <tr>\n",
              "      <th>12</th>\n",
              "      <td>1 Fires</td>\n",
              "      <td>Janeiro</td>\n",
              "      <td>01-01-2010</td>\n",
              "      <td>2010</td>\n",
              "      <td>Acre</td>\n",
              "    </tr>\n",
              "    <tr>\n",
              "      <th>13</th>\n",
              "      <td>0 Fires</td>\n",
              "      <td>Janeiro</td>\n",
              "      <td>01-01-2011</td>\n",
              "      <td>2011</td>\n",
              "      <td>Acre</td>\n",
              "    </tr>\n",
              "    <tr>\n",
              "      <th>14</th>\n",
              "      <td>0 Fires</td>\n",
              "      <td>Janeiro</td>\n",
              "      <td>01-01-2012</td>\n",
              "      <td>2012</td>\n",
              "      <td>Acre</td>\n",
              "    </tr>\n",
              "    <tr>\n",
              "      <th>15</th>\n",
              "      <td>0 Fires</td>\n",
              "      <td>Janeiro</td>\n",
              "      <td>01-01-2013</td>\n",
              "      <td>2013</td>\n",
              "      <td>Acre</td>\n",
              "    </tr>\n",
              "    <tr>\n",
              "      <th>16</th>\n",
              "      <td>0 Fires</td>\n",
              "      <td>Janeiro</td>\n",
              "      <td>01-01-2014</td>\n",
              "      <td>2014</td>\n",
              "      <td>Acre</td>\n",
              "    </tr>\n",
              "    <tr>\n",
              "      <th>17</th>\n",
              "      <td>1 Fires</td>\n",
              "      <td>Janeiro</td>\n",
              "      <td>01-01-2015</td>\n",
              "      <td>2015</td>\n",
              "      <td>Acre</td>\n",
              "    </tr>\n",
              "    <tr>\n",
              "      <th>18</th>\n",
              "      <td>12 Fires</td>\n",
              "      <td>Janeiro</td>\n",
              "      <td>01-01-2016</td>\n",
              "      <td>2016</td>\n",
              "      <td>Acre</td>\n",
              "    </tr>\n",
              "    <tr>\n",
              "      <th>19</th>\n",
              "      <td>0 Fires</td>\n",
              "      <td>Janeiro</td>\n",
              "      <td>01-01-2017</td>\n",
              "      <td>2017</td>\n",
              "      <td>Acre</td>\n",
              "    </tr>\n",
              "    <tr>\n",
              "      <th>20</th>\n",
              "      <td>0 Fires</td>\n",
              "      <td>Fevereiro</td>\n",
              "      <td>01-01-1998</td>\n",
              "      <td>1998</td>\n",
              "      <td>Acre</td>\n",
              "    </tr>\n",
              "    <tr>\n",
              "      <th>21</th>\n",
              "      <td>0 Fires</td>\n",
              "      <td>Fevereiro</td>\n",
              "      <td>01-01-1999</td>\n",
              "      <td>1999</td>\n",
              "      <td>Acre</td>\n",
              "    </tr>\n",
              "    <tr>\n",
              "      <th>22</th>\n",
              "      <td>0 Fires</td>\n",
              "      <td>Fevereiro</td>\n",
              "      <td>01-01-2000</td>\n",
              "      <td>2000</td>\n",
              "      <td>Acre</td>\n",
              "    </tr>\n",
              "    <tr>\n",
              "      <th>23</th>\n",
              "      <td>0 Fires</td>\n",
              "      <td>Fevereiro</td>\n",
              "      <td>01-01-2001</td>\n",
              "      <td>2001</td>\n",
              "      <td>Acre</td>\n",
              "    </tr>\n",
              "    <tr>\n",
              "      <th>24</th>\n",
              "      <td>1 Fires</td>\n",
              "      <td>Fevereiro</td>\n",
              "      <td>01-01-2002</td>\n",
              "      <td>2002</td>\n",
              "      <td>Acre</td>\n",
              "    </tr>\n",
              "  </tbody>\n",
              "</table>\n",
              "</div>"
            ],
            "text/plain": [
              "   number_of_fires      month        date  year state\n",
              "0          0 Fires    Janeiro  01-01-1998  1998  Acre\n",
              "1          0 Fires    Janeiro  01-01-1999  1999  Acre\n",
              "2          0 Fires    Janeiro  01-01-2000  2000  Acre\n",
              "3          0 Fires    Janeiro  01-01-2001  2001  Acre\n",
              "4          0 Fires    Janeiro  01-01-2002  2002  Acre\n",
              "5         10 Fires    Janeiro  01-01-2003  2003  Acre\n",
              "6          0 Fires    Janeiro  01-01-2004  2004  Acre\n",
              "7         12 Fires    Janeiro  01-01-2005  2005  Acre\n",
              "8          4 Fires    Janeiro  01-01-2006  2006  Acre\n",
              "9          0 Fires    Janeiro  01-01-2007  2007  Acre\n",
              "10         0 Fires    Janeiro  01-01-2008  2008  Acre\n",
              "11         0 Fires    Janeiro  01-01-2009  2009  Acre\n",
              "12         1 Fires    Janeiro  01-01-2010  2010  Acre\n",
              "13         0 Fires    Janeiro  01-01-2011  2011  Acre\n",
              "14         0 Fires    Janeiro  01-01-2012  2012  Acre\n",
              "15         0 Fires    Janeiro  01-01-2013  2013  Acre\n",
              "16         0 Fires    Janeiro  01-01-2014  2014  Acre\n",
              "17         1 Fires    Janeiro  01-01-2015  2015  Acre\n",
              "18        12 Fires    Janeiro  01-01-2016  2016  Acre\n",
              "19         0 Fires    Janeiro  01-01-2017  2017  Acre\n",
              "20         0 Fires  Fevereiro  01-01-1998  1998  Acre\n",
              "21         0 Fires  Fevereiro  01-01-1999  1999  Acre\n",
              "22         0 Fires  Fevereiro  01-01-2000  2000  Acre\n",
              "23         0 Fires  Fevereiro  01-01-2001  2001  Acre\n",
              "24         1 Fires  Fevereiro  01-01-2002  2002  Acre"
            ]
          },
          "metadata": {
            "tags": []
          },
          "execution_count": 13
        }
      ]
    },
    {
      "cell_type": "code",
      "metadata": {
        "colab": {
          "base_uri": "https://localhost:8080/",
          "height": 202
        },
        "id": "l5aN0eSbB_SF",
        "outputId": "ce6a23ed-d12b-4dfe-8f0a-19ccb4e8f437"
      },
      "source": [
        "df.tail()"
      ],
      "execution_count": null,
      "outputs": [
        {
          "output_type": "execute_result",
          "data": {
            "text/html": [
              "<div>\n",
              "<style scoped>\n",
              "    .dataframe tbody tr th:only-of-type {\n",
              "        vertical-align: middle;\n",
              "    }\n",
              "\n",
              "    .dataframe tbody tr th {\n",
              "        vertical-align: top;\n",
              "    }\n",
              "\n",
              "    .dataframe thead th {\n",
              "        text-align: right;\n",
              "    }\n",
              "</style>\n",
              "<table border=\"1\" class=\"dataframe\">\n",
              "  <thead>\n",
              "    <tr style=\"text-align: right;\">\n",
              "      <th></th>\n",
              "      <th>number_of_fires</th>\n",
              "      <th>month</th>\n",
              "      <th>date</th>\n",
              "      <th>year</th>\n",
              "      <th>state</th>\n",
              "    </tr>\n",
              "  </thead>\n",
              "  <tbody>\n",
              "    <tr>\n",
              "      <th>510</th>\n",
              "      <td>0</td>\n",
              "      <td>Fevereiro</td>\n",
              "      <td>01-01-2009</td>\n",
              "      <td>2009</td>\n",
              "      <td>Amapa</td>\n",
              "    </tr>\n",
              "    <tr>\n",
              "      <th>511</th>\n",
              "      <td>0</td>\n",
              "      <td>Fevereiro</td>\n",
              "      <td>01-01-2010</td>\n",
              "      <td>2010</td>\n",
              "      <td>Amapa</td>\n",
              "    </tr>\n",
              "    <tr>\n",
              "      <th>512</th>\n",
              "      <td>3</td>\n",
              "      <td>Fevereiro</td>\n",
              "      <td>01-01-2011</td>\n",
              "      <td>2011</td>\n",
              "      <td>Amapa</td>\n",
              "    </tr>\n",
              "    <tr>\n",
              "      <th>513</th>\n",
              "      <td>5</td>\n",
              "      <td>Fevereiro</td>\n",
              "      <td>01-01-2012</td>\n",
              "      <td>2012</td>\n",
              "      <td>Amapa</td>\n",
              "    </tr>\n",
              "    <tr>\n",
              "      <th>514</th>\n",
              "      <td>0</td>\n",
              "      <td>Fevereiro</td>\n",
              "      <td>01-01-2013</td>\n",
              "      <td>2013</td>\n",
              "      <td>Amapa</td>\n",
              "    </tr>\n",
              "  </tbody>\n",
              "</table>\n",
              "</div>"
            ],
            "text/plain": [
              "    number_of_fires      month        date  year  state\n",
              "510               0  Fevereiro  01-01-2009  2009  Amapa\n",
              "511               0  Fevereiro  01-01-2010  2010  Amapa\n",
              "512               3  Fevereiro  01-01-2011  2011  Amapa\n",
              "513               5  Fevereiro  01-01-2012  2012  Amapa\n",
              "514               0  Fevereiro  01-01-2013  2013  Amapa"
            ]
          },
          "metadata": {
            "tags": []
          },
          "execution_count": 14
        }
      ]
    },
    {
      "cell_type": "code",
      "metadata": {
        "colab": {
          "base_uri": "https://localhost:8080/",
          "height": 355
        },
        "id": "4nBUABjsCEBL",
        "outputId": "84af4f08-349b-4341-df47-384495d6e8a8"
      },
      "source": [
        "df.tail(10)"
      ],
      "execution_count": null,
      "outputs": [
        {
          "output_type": "execute_result",
          "data": {
            "text/html": [
              "<div>\n",
              "<style scoped>\n",
              "    .dataframe tbody tr th:only-of-type {\n",
              "        vertical-align: middle;\n",
              "    }\n",
              "\n",
              "    .dataframe tbody tr th {\n",
              "        vertical-align: top;\n",
              "    }\n",
              "\n",
              "    .dataframe thead th {\n",
              "        text-align: right;\n",
              "    }\n",
              "</style>\n",
              "<table border=\"1\" class=\"dataframe\">\n",
              "  <thead>\n",
              "    <tr style=\"text-align: right;\">\n",
              "      <th></th>\n",
              "      <th>number_of_fires</th>\n",
              "      <th>month</th>\n",
              "      <th>date</th>\n",
              "      <th>year</th>\n",
              "      <th>state</th>\n",
              "    </tr>\n",
              "  </thead>\n",
              "  <tbody>\n",
              "    <tr>\n",
              "      <th>505</th>\n",
              "      <td>2</td>\n",
              "      <td>Fevereiro</td>\n",
              "      <td>01-01-2004</td>\n",
              "      <td>2004</td>\n",
              "      <td>Amapa</td>\n",
              "    </tr>\n",
              "    <tr>\n",
              "      <th>506</th>\n",
              "      <td>1</td>\n",
              "      <td>Fevereiro</td>\n",
              "      <td>01-01-2005</td>\n",
              "      <td>2005</td>\n",
              "      <td>Amapa</td>\n",
              "    </tr>\n",
              "    <tr>\n",
              "      <th>507</th>\n",
              "      <td>2</td>\n",
              "      <td>Fevereiro</td>\n",
              "      <td>01-01-2006</td>\n",
              "      <td>2006</td>\n",
              "      <td>Amapa</td>\n",
              "    </tr>\n",
              "    <tr>\n",
              "      <th>508</th>\n",
              "      <td>0</td>\n",
              "      <td>Fevereiro</td>\n",
              "      <td>01-01-2007</td>\n",
              "      <td>2007</td>\n",
              "      <td>Amapa</td>\n",
              "    </tr>\n",
              "    <tr>\n",
              "      <th>509</th>\n",
              "      <td>0</td>\n",
              "      <td>Fevereiro</td>\n",
              "      <td>01-01-2008</td>\n",
              "      <td>2008</td>\n",
              "      <td>Amapa</td>\n",
              "    </tr>\n",
              "    <tr>\n",
              "      <th>510</th>\n",
              "      <td>0</td>\n",
              "      <td>Fevereiro</td>\n",
              "      <td>01-01-2009</td>\n",
              "      <td>2009</td>\n",
              "      <td>Amapa</td>\n",
              "    </tr>\n",
              "    <tr>\n",
              "      <th>511</th>\n",
              "      <td>0</td>\n",
              "      <td>Fevereiro</td>\n",
              "      <td>01-01-2010</td>\n",
              "      <td>2010</td>\n",
              "      <td>Amapa</td>\n",
              "    </tr>\n",
              "    <tr>\n",
              "      <th>512</th>\n",
              "      <td>3</td>\n",
              "      <td>Fevereiro</td>\n",
              "      <td>01-01-2011</td>\n",
              "      <td>2011</td>\n",
              "      <td>Amapa</td>\n",
              "    </tr>\n",
              "    <tr>\n",
              "      <th>513</th>\n",
              "      <td>5</td>\n",
              "      <td>Fevereiro</td>\n",
              "      <td>01-01-2012</td>\n",
              "      <td>2012</td>\n",
              "      <td>Amapa</td>\n",
              "    </tr>\n",
              "    <tr>\n",
              "      <th>514</th>\n",
              "      <td>0</td>\n",
              "      <td>Fevereiro</td>\n",
              "      <td>01-01-2013</td>\n",
              "      <td>2013</td>\n",
              "      <td>Amapa</td>\n",
              "    </tr>\n",
              "  </tbody>\n",
              "</table>\n",
              "</div>"
            ],
            "text/plain": [
              "    number_of_fires      month        date  year  state\n",
              "505               2  Fevereiro  01-01-2004  2004  Amapa\n",
              "506               1  Fevereiro  01-01-2005  2005  Amapa\n",
              "507               2  Fevereiro  01-01-2006  2006  Amapa\n",
              "508               0  Fevereiro  01-01-2007  2007  Amapa\n",
              "509               0  Fevereiro  01-01-2008  2008  Amapa\n",
              "510               0  Fevereiro  01-01-2009  2009  Amapa\n",
              "511               0  Fevereiro  01-01-2010  2010  Amapa\n",
              "512               3  Fevereiro  01-01-2011  2011  Amapa\n",
              "513               5  Fevereiro  01-01-2012  2012  Amapa\n",
              "514               0  Fevereiro  01-01-2013  2013  Amapa"
            ]
          },
          "metadata": {
            "tags": []
          },
          "execution_count": 15
        }
      ]
    },
    {
      "cell_type": "markdown",
      "metadata": {
        "id": "Hx2gpJTvCItt"
      },
      "source": [
        "**Determine if the columns contain the numberical data**"
      ]
    },
    {
      "cell_type": "code",
      "metadata": {
        "colab": {
          "base_uri": "https://localhost:8080/"
        },
        "id": "GNki5xOBCUls",
        "outputId": "d3a8ed38-00ea-4a1d-960f-adf60b771d89"
      },
      "source": [
        "df['number_of_fires'].str.isnumeric()"
      ],
      "execution_count": null,
      "outputs": [
        {
          "output_type": "execute_result",
          "data": {
            "text/plain": [
              "0      False\n",
              "1      False\n",
              "2      False\n",
              "3      False\n",
              "4      False\n",
              "       ...  \n",
              "510     True\n",
              "511     True\n",
              "512     True\n",
              "513     True\n",
              "514     True\n",
              "Name: number_of_fires, Length: 515, dtype: object"
            ]
          },
          "metadata": {
            "tags": []
          },
          "execution_count": 16
        }
      ]
    },
    {
      "cell_type": "code",
      "metadata": {
        "colab": {
          "base_uri": "https://localhost:8080/"
        },
        "id": "e2HSd6CFCuT6",
        "outputId": "5ec40966-709d-4f08-fbcf-a981480c31c3"
      },
      "source": [
        "df['number_of_fires'].astype(str).str.isdigit()"
      ],
      "execution_count": null,
      "outputs": [
        {
          "output_type": "execute_result",
          "data": {
            "text/plain": [
              "0      False\n",
              "1      False\n",
              "2      False\n",
              "3      False\n",
              "4      False\n",
              "       ...  \n",
              "510     True\n",
              "511     True\n",
              "512     True\n",
              "513     True\n",
              "514     True\n",
              "Name: number_of_fires, Length: 515, dtype: bool"
            ]
          },
          "metadata": {
            "tags": []
          },
          "execution_count": 18
        }
      ]
    },
    {
      "cell_type": "code",
      "metadata": {
        "colab": {
          "base_uri": "https://localhost:8080/"
        },
        "id": "2hkjT7ZXC7ZF",
        "outputId": "51d056f5-dbd5-4e05-e83b-29c8c5b1c317"
      },
      "source": [
        "df['number_of_fires'].str.strip(\"Fires\")"
      ],
      "execution_count": null,
      "outputs": [
        {
          "output_type": "execute_result",
          "data": {
            "text/plain": [
              "0      0 \n",
              "1      0 \n",
              "2      0 \n",
              "3      0 \n",
              "4      0 \n",
              "       ..\n",
              "510     0\n",
              "511     0\n",
              "512     3\n",
              "513     5\n",
              "514     0\n",
              "Name: number_of_fires, Length: 515, dtype: object"
            ]
          },
          "metadata": {
            "tags": []
          },
          "execution_count": 19
        }
      ]
    },
    {
      "cell_type": "code",
      "metadata": {
        "colab": {
          "base_uri": "https://localhost:8080/"
        },
        "id": "uLKBqjRBEKya",
        "outputId": "1b8a4c46-4121-42b7-abdc-90edafbf15ba"
      },
      "source": [
        "df.info()"
      ],
      "execution_count": null,
      "outputs": [
        {
          "output_type": "stream",
          "text": [
            "<class 'pandas.core.frame.DataFrame'>\n",
            "RangeIndex: 515 entries, 0 to 514\n",
            "Data columns (total 5 columns):\n",
            " #   Column           Non-Null Count  Dtype \n",
            "---  ------           --------------  ----- \n",
            " 0   number_of_fires  510 non-null    object\n",
            " 1   month            515 non-null    object\n",
            " 2   date             515 non-null    object\n",
            " 3   year             515 non-null    int64 \n",
            " 4   state            515 non-null    object\n",
            "dtypes: int64(1), object(4)\n",
            "memory usage: 20.2+ KB\n"
          ],
          "name": "stdout"
        }
      ]
    },
    {
      "cell_type": "code",
      "metadata": {
        "colab": {
          "base_uri": "https://localhost:8080/",
          "height": 202
        },
        "id": "nKwKF2tCEdyq",
        "outputId": "9d45c795-ab29-4cea-9ee1-7b1b080e4dfb"
      },
      "source": [
        "file_name = \"/content/amazon_fires.csv\"\n",
        "df = pd.read_csv(file_name,encoding = \"ISO-8859-1\")\n",
        "new_columns = {'ano':'year',\n",
        "               'estado': 'state',\n",
        "               'mes':'month',\n",
        "               'numero':'number_of_fires',\n",
        "               'encontro':'date'}\n",
        "df.rename(columns=new_columns, inplace=True)\n",
        "df['number_of_fires']=df['number_of_fires'].str.strip(\"Fires\")\n",
        "df_copy=df.copy()\n",
        "df.head()"
      ],
      "execution_count": null,
      "outputs": [
        {
          "output_type": "execute_result",
          "data": {
            "text/html": [
              "<div>\n",
              "<style scoped>\n",
              "    .dataframe tbody tr th:only-of-type {\n",
              "        vertical-align: middle;\n",
              "    }\n",
              "\n",
              "    .dataframe tbody tr th {\n",
              "        vertical-align: top;\n",
              "    }\n",
              "\n",
              "    .dataframe thead th {\n",
              "        text-align: right;\n",
              "    }\n",
              "</style>\n",
              "<table border=\"1\" class=\"dataframe\">\n",
              "  <thead>\n",
              "    <tr style=\"text-align: right;\">\n",
              "      <th></th>\n",
              "      <th>year</th>\n",
              "      <th>month</th>\n",
              "      <th>state</th>\n",
              "      <th>number_of_fires</th>\n",
              "      <th>date</th>\n",
              "    </tr>\n",
              "  </thead>\n",
              "  <tbody>\n",
              "    <tr>\n",
              "      <th>0</th>\n",
              "      <td>1998</td>\n",
              "      <td>Janeiro</td>\n",
              "      <td>Acre</td>\n",
              "      <td>0</td>\n",
              "      <td>01-01-1998</td>\n",
              "    </tr>\n",
              "    <tr>\n",
              "      <th>1</th>\n",
              "      <td>1999</td>\n",
              "      <td>Janeiro</td>\n",
              "      <td>Acre</td>\n",
              "      <td>0</td>\n",
              "      <td>01-01-1999</td>\n",
              "    </tr>\n",
              "    <tr>\n",
              "      <th>2</th>\n",
              "      <td>2000</td>\n",
              "      <td>Janeiro</td>\n",
              "      <td>Acre</td>\n",
              "      <td>0</td>\n",
              "      <td>01-01-2000</td>\n",
              "    </tr>\n",
              "    <tr>\n",
              "      <th>3</th>\n",
              "      <td>2001</td>\n",
              "      <td>Janeiro</td>\n",
              "      <td>Acre</td>\n",
              "      <td>0</td>\n",
              "      <td>01-01-2001</td>\n",
              "    </tr>\n",
              "    <tr>\n",
              "      <th>4</th>\n",
              "      <td>2002</td>\n",
              "      <td>Janeiro</td>\n",
              "      <td>Acre</td>\n",
              "      <td>0</td>\n",
              "      <td>01-01-2002</td>\n",
              "    </tr>\n",
              "  </tbody>\n",
              "</table>\n",
              "</div>"
            ],
            "text/plain": [
              "   year    month state number_of_fires        date\n",
              "0  1998  Janeiro  Acre              0   01-01-1998\n",
              "1  1999  Janeiro  Acre              0   01-01-1999\n",
              "2  2000  Janeiro  Acre              0   01-01-2000\n",
              "3  2001  Janeiro  Acre              0   01-01-2001\n",
              "4  2002  Janeiro  Acre              0   01-01-2002"
            ]
          },
          "metadata": {
            "tags": []
          },
          "execution_count": 21
        }
      ]
    },
    {
      "cell_type": "code",
      "metadata": {
        "colab": {
          "base_uri": "https://localhost:8080/"
        },
        "id": "r_EdTMQgFt_5",
        "outputId": "d7f822e3-bdb4-486d-a91b-3ac121c0f356"
      },
      "source": [
        "df.isnull().sum()"
      ],
      "execution_count": null,
      "outputs": [
        {
          "output_type": "execute_result",
          "data": {
            "text/plain": [
              "year               0\n",
              "month              0\n",
              "state              0\n",
              "number_of_fires    5\n",
              "date               0\n",
              "dtype: int64"
            ]
          },
          "metadata": {
            "tags": []
          },
          "execution_count": 23
        }
      ]
    },
    {
      "cell_type": "code",
      "metadata": {
        "colab": {
          "base_uri": "https://localhost:8080/",
          "height": 202
        },
        "id": "57Hqhp8OHOvj",
        "outputId": "58ca50ef-066c-44c6-97e4-4c7ceb5677cd"
      },
      "source": [
        "df = df.dropna()\n",
        "df = df.reset_index()\n",
        "df.head()"
      ],
      "execution_count": null,
      "outputs": [
        {
          "output_type": "execute_result",
          "data": {
            "text/html": [
              "<div>\n",
              "<style scoped>\n",
              "    .dataframe tbody tr th:only-of-type {\n",
              "        vertical-align: middle;\n",
              "    }\n",
              "\n",
              "    .dataframe tbody tr th {\n",
              "        vertical-align: top;\n",
              "    }\n",
              "\n",
              "    .dataframe thead th {\n",
              "        text-align: right;\n",
              "    }\n",
              "</style>\n",
              "<table border=\"1\" class=\"dataframe\">\n",
              "  <thead>\n",
              "    <tr style=\"text-align: right;\">\n",
              "      <th></th>\n",
              "      <th>index</th>\n",
              "      <th>year</th>\n",
              "      <th>month</th>\n",
              "      <th>state</th>\n",
              "      <th>number_of_fires</th>\n",
              "      <th>date</th>\n",
              "    </tr>\n",
              "  </thead>\n",
              "  <tbody>\n",
              "    <tr>\n",
              "      <th>0</th>\n",
              "      <td>0</td>\n",
              "      <td>1998</td>\n",
              "      <td>Janeiro</td>\n",
              "      <td>Acre</td>\n",
              "      <td>0</td>\n",
              "      <td>01-01-1998</td>\n",
              "    </tr>\n",
              "    <tr>\n",
              "      <th>1</th>\n",
              "      <td>1</td>\n",
              "      <td>1999</td>\n",
              "      <td>Janeiro</td>\n",
              "      <td>Acre</td>\n",
              "      <td>0</td>\n",
              "      <td>01-01-1999</td>\n",
              "    </tr>\n",
              "    <tr>\n",
              "      <th>2</th>\n",
              "      <td>2</td>\n",
              "      <td>2000</td>\n",
              "      <td>Janeiro</td>\n",
              "      <td>Acre</td>\n",
              "      <td>0</td>\n",
              "      <td>01-01-2000</td>\n",
              "    </tr>\n",
              "    <tr>\n",
              "      <th>3</th>\n",
              "      <td>3</td>\n",
              "      <td>2001</td>\n",
              "      <td>Janeiro</td>\n",
              "      <td>Acre</td>\n",
              "      <td>0</td>\n",
              "      <td>01-01-2001</td>\n",
              "    </tr>\n",
              "    <tr>\n",
              "      <th>4</th>\n",
              "      <td>4</td>\n",
              "      <td>2002</td>\n",
              "      <td>Janeiro</td>\n",
              "      <td>Acre</td>\n",
              "      <td>0</td>\n",
              "      <td>01-01-2002</td>\n",
              "    </tr>\n",
              "  </tbody>\n",
              "</table>\n",
              "</div>"
            ],
            "text/plain": [
              "   index  year    month state number_of_fires        date\n",
              "0      0  1998  Janeiro  Acre              0   01-01-1998\n",
              "1      1  1999  Janeiro  Acre              0   01-01-1999\n",
              "2      2  2000  Janeiro  Acre              0   01-01-2000\n",
              "3      3  2001  Janeiro  Acre              0   01-01-2001\n",
              "4      4  2002  Janeiro  Acre              0   01-01-2002"
            ]
          },
          "metadata": {
            "tags": []
          },
          "execution_count": 24
        }
      ]
    },
    {
      "cell_type": "code",
      "metadata": {
        "colab": {
          "base_uri": "https://localhost:8080/"
        },
        "id": "t7V-Jfb_Hrtl",
        "outputId": "abd68650-cd25-48cd-adf2-a273390fd980"
      },
      "source": [
        "df.isnull().sum()"
      ],
      "execution_count": null,
      "outputs": [
        {
          "output_type": "execute_result",
          "data": {
            "text/plain": [
              "index              0\n",
              "year               0\n",
              "month              0\n",
              "state              0\n",
              "number_of_fires    0\n",
              "date               0\n",
              "dtype: int64"
            ]
          },
          "metadata": {
            "tags": []
          },
          "execution_count": 25
        }
      ]
    },
    {
      "cell_type": "code",
      "metadata": {
        "colab": {
          "base_uri": "https://localhost:8080/",
          "height": 202
        },
        "id": "SRzE42lBHu6d",
        "outputId": "03c68223-1b78-4825-aec5-6f9b02a9c2fa"
      },
      "source": [
        "df.tail()"
      ],
      "execution_count": null,
      "outputs": [
        {
          "output_type": "execute_result",
          "data": {
            "text/html": [
              "<div>\n",
              "<style scoped>\n",
              "    .dataframe tbody tr th:only-of-type {\n",
              "        vertical-align: middle;\n",
              "    }\n",
              "\n",
              "    .dataframe tbody tr th {\n",
              "        vertical-align: top;\n",
              "    }\n",
              "\n",
              "    .dataframe thead th {\n",
              "        text-align: right;\n",
              "    }\n",
              "</style>\n",
              "<table border=\"1\" class=\"dataframe\">\n",
              "  <thead>\n",
              "    <tr style=\"text-align: right;\">\n",
              "      <th></th>\n",
              "      <th>index</th>\n",
              "      <th>year</th>\n",
              "      <th>month</th>\n",
              "      <th>state</th>\n",
              "      <th>number_of_fires</th>\n",
              "      <th>date</th>\n",
              "    </tr>\n",
              "  </thead>\n",
              "  <tbody>\n",
              "    <tr>\n",
              "      <th>505</th>\n",
              "      <td>510</td>\n",
              "      <td>2009</td>\n",
              "      <td>Fevereiro</td>\n",
              "      <td>Amapa</td>\n",
              "      <td>0</td>\n",
              "      <td>01-01-2009</td>\n",
              "    </tr>\n",
              "    <tr>\n",
              "      <th>506</th>\n",
              "      <td>511</td>\n",
              "      <td>2010</td>\n",
              "      <td>Fevereiro</td>\n",
              "      <td>Amapa</td>\n",
              "      <td>0</td>\n",
              "      <td>01-01-2010</td>\n",
              "    </tr>\n",
              "    <tr>\n",
              "      <th>507</th>\n",
              "      <td>512</td>\n",
              "      <td>2011</td>\n",
              "      <td>Fevereiro</td>\n",
              "      <td>Amapa</td>\n",
              "      <td>3</td>\n",
              "      <td>01-01-2011</td>\n",
              "    </tr>\n",
              "    <tr>\n",
              "      <th>508</th>\n",
              "      <td>513</td>\n",
              "      <td>2012</td>\n",
              "      <td>Fevereiro</td>\n",
              "      <td>Amapa</td>\n",
              "      <td>5</td>\n",
              "      <td>01-01-2012</td>\n",
              "    </tr>\n",
              "    <tr>\n",
              "      <th>509</th>\n",
              "      <td>514</td>\n",
              "      <td>2013</td>\n",
              "      <td>Fevereiro</td>\n",
              "      <td>Amapa</td>\n",
              "      <td>0</td>\n",
              "      <td>01-01-2013</td>\n",
              "    </tr>\n",
              "  </tbody>\n",
              "</table>\n",
              "</div>"
            ],
            "text/plain": [
              "     index  year      month  state number_of_fires        date\n",
              "505    510  2009  Fevereiro  Amapa               0  01-01-2009\n",
              "506    511  2010  Fevereiro  Amapa               0  01-01-2010\n",
              "507    512  2011  Fevereiro  Amapa               3  01-01-2011\n",
              "508    513  2012  Fevereiro  Amapa               5  01-01-2012\n",
              "509    514  2013  Fevereiro  Amapa               0  01-01-2013"
            ]
          },
          "metadata": {
            "tags": []
          },
          "execution_count": 26
        }
      ]
    },
    {
      "cell_type": "code",
      "metadata": {
        "colab": {
          "base_uri": "https://localhost:8080/"
        },
        "id": "tMnAxBNqH0tq",
        "outputId": "27289078-a4e1-417b-e9f8-b0879ca28afa"
      },
      "source": [
        "df.info()"
      ],
      "execution_count": null,
      "outputs": [
        {
          "output_type": "stream",
          "text": [
            "<class 'pandas.core.frame.DataFrame'>\n",
            "RangeIndex: 510 entries, 0 to 509\n",
            "Data columns (total 6 columns):\n",
            " #   Column           Non-Null Count  Dtype \n",
            "---  ------           --------------  ----- \n",
            " 0   index            510 non-null    int64 \n",
            " 1   year             510 non-null    int64 \n",
            " 2   month            510 non-null    object\n",
            " 3   state            510 non-null    object\n",
            " 4   number_of_fires  510 non-null    object\n",
            " 5   date             510 non-null    object\n",
            "dtypes: int64(2), object(4)\n",
            "memory usage: 24.0+ KB\n"
          ],
          "name": "stdout"
        }
      ]
    },
    {
      "cell_type": "code",
      "metadata": {
        "colab": {
          "base_uri": "https://localhost:8080/",
          "height": 202
        },
        "id": "OenhAyKTJYNw",
        "outputId": "6d591f32-842b-403d-be8d-82764e3a95b3"
      },
      "source": [
        "file_name = \"/content/amazon_fires.csv\"\n",
        "df = pd.read_csv(file_name,encoding = \"ISO-8859-1\")\n",
        "new_columns = {'ano':'year',\n",
        "               'estado': 'state',\n",
        "               'mes':'month',\n",
        "               'numero':'number_of_fires',\n",
        "               'encontro':'date'}\n",
        "df.rename(columns=new_columns, inplace=True)\n",
        "df['number_of_fires']=df['number_of_fires'].str.strip(\"Fires\")\n",
        "df_copy=df.copy()\n",
        "df.head()"
      ],
      "execution_count": null,
      "outputs": [
        {
          "output_type": "execute_result",
          "data": {
            "text/html": [
              "<div>\n",
              "<style scoped>\n",
              "    .dataframe tbody tr th:only-of-type {\n",
              "        vertical-align: middle;\n",
              "    }\n",
              "\n",
              "    .dataframe tbody tr th {\n",
              "        vertical-align: top;\n",
              "    }\n",
              "\n",
              "    .dataframe thead th {\n",
              "        text-align: right;\n",
              "    }\n",
              "</style>\n",
              "<table border=\"1\" class=\"dataframe\">\n",
              "  <thead>\n",
              "    <tr style=\"text-align: right;\">\n",
              "      <th></th>\n",
              "      <th>year</th>\n",
              "      <th>month</th>\n",
              "      <th>state</th>\n",
              "      <th>number_of_fires</th>\n",
              "      <th>date</th>\n",
              "    </tr>\n",
              "  </thead>\n",
              "  <tbody>\n",
              "    <tr>\n",
              "      <th>0</th>\n",
              "      <td>1998</td>\n",
              "      <td>Janeiro</td>\n",
              "      <td>Acre</td>\n",
              "      <td>0</td>\n",
              "      <td>01-01-1998</td>\n",
              "    </tr>\n",
              "    <tr>\n",
              "      <th>1</th>\n",
              "      <td>1999</td>\n",
              "      <td>Janeiro</td>\n",
              "      <td>Acre</td>\n",
              "      <td>0</td>\n",
              "      <td>01-01-1999</td>\n",
              "    </tr>\n",
              "    <tr>\n",
              "      <th>2</th>\n",
              "      <td>2000</td>\n",
              "      <td>Janeiro</td>\n",
              "      <td>Acre</td>\n",
              "      <td>0</td>\n",
              "      <td>01-01-2000</td>\n",
              "    </tr>\n",
              "    <tr>\n",
              "      <th>3</th>\n",
              "      <td>2001</td>\n",
              "      <td>Janeiro</td>\n",
              "      <td>Acre</td>\n",
              "      <td>0</td>\n",
              "      <td>01-01-2001</td>\n",
              "    </tr>\n",
              "    <tr>\n",
              "      <th>4</th>\n",
              "      <td>2002</td>\n",
              "      <td>Janeiro</td>\n",
              "      <td>Acre</td>\n",
              "      <td>0</td>\n",
              "      <td>01-01-2002</td>\n",
              "    </tr>\n",
              "  </tbody>\n",
              "</table>\n",
              "</div>"
            ],
            "text/plain": [
              "   year    month state number_of_fires        date\n",
              "0  1998  Janeiro  Acre              0   01-01-1998\n",
              "1  1999  Janeiro  Acre              0   01-01-1999\n",
              "2  2000  Janeiro  Acre              0   01-01-2000\n",
              "3  2001  Janeiro  Acre              0   01-01-2001\n",
              "4  2002  Janeiro  Acre              0   01-01-2002"
            ]
          },
          "metadata": {
            "tags": []
          },
          "execution_count": 31
        }
      ]
    },
    {
      "cell_type": "code",
      "metadata": {
        "id": "LdOrEqx8JodM",
        "colab": {
          "base_uri": "https://localhost:8080/",
          "height": 202
        },
        "outputId": "454d97ea-2811-4e9f-80f3-d3bb90741e9a"
      },
      "source": [
        "df = df.drop(['month','date'],axis=1)\n",
        "df.head()"
      ],
      "execution_count": null,
      "outputs": [
        {
          "output_type": "execute_result",
          "data": {
            "text/html": [
              "<div>\n",
              "<style scoped>\n",
              "    .dataframe tbody tr th:only-of-type {\n",
              "        vertical-align: middle;\n",
              "    }\n",
              "\n",
              "    .dataframe tbody tr th {\n",
              "        vertical-align: top;\n",
              "    }\n",
              "\n",
              "    .dataframe thead th {\n",
              "        text-align: right;\n",
              "    }\n",
              "</style>\n",
              "<table border=\"1\" class=\"dataframe\">\n",
              "  <thead>\n",
              "    <tr style=\"text-align: right;\">\n",
              "      <th></th>\n",
              "      <th>year</th>\n",
              "      <th>state</th>\n",
              "      <th>number_of_fires</th>\n",
              "    </tr>\n",
              "  </thead>\n",
              "  <tbody>\n",
              "    <tr>\n",
              "      <th>0</th>\n",
              "      <td>1998</td>\n",
              "      <td>Acre</td>\n",
              "      <td>0</td>\n",
              "    </tr>\n",
              "    <tr>\n",
              "      <th>1</th>\n",
              "      <td>1999</td>\n",
              "      <td>Acre</td>\n",
              "      <td>0</td>\n",
              "    </tr>\n",
              "    <tr>\n",
              "      <th>2</th>\n",
              "      <td>2000</td>\n",
              "      <td>Acre</td>\n",
              "      <td>0</td>\n",
              "    </tr>\n",
              "    <tr>\n",
              "      <th>3</th>\n",
              "      <td>2001</td>\n",
              "      <td>Acre</td>\n",
              "      <td>0</td>\n",
              "    </tr>\n",
              "    <tr>\n",
              "      <th>4</th>\n",
              "      <td>2002</td>\n",
              "      <td>Acre</td>\n",
              "      <td>0</td>\n",
              "    </tr>\n",
              "  </tbody>\n",
              "</table>\n",
              "</div>"
            ],
            "text/plain": [
              "   year state number_of_fires\n",
              "0  1998  Acre              0 \n",
              "1  1999  Acre              0 \n",
              "2  2000  Acre              0 \n",
              "3  2001  Acre              0 \n",
              "4  2002  Acre              0 "
            ]
          },
          "metadata": {
            "tags": []
          },
          "execution_count": 32
        }
      ]
    },
    {
      "cell_type": "code",
      "metadata": {
        "id": "fbfB8YNdLGBh"
      },
      "source": [
        ""
      ],
      "execution_count": null,
      "outputs": []
    },
    {
      "cell_type": "code",
      "metadata": {
        "colab": {
          "base_uri": "https://localhost:8080/",
          "height": 202
        },
        "id": "HCwG2Dl0LGeR",
        "outputId": "2eecd3d2-14e6-4511-ad3e-5bdc1e4dcbad"
      },
      "source": [
        "file_name = \"/content/amazon_fires.csv\"\n",
        "df = pd.read_csv(file_name,encoding = \"ISO-8859-1\")\n",
        "new_columns = {'ano':'year',\n",
        "               'estado': 'state',\n",
        "               'mes':'month',\n",
        "               'numero':'number_of_fires',\n",
        "               'encontro':'date'}\n",
        "df.rename(columns=new_columns, inplace=True)\n",
        "df['number_of_fires']=df['number_of_fires'].str.strip(\"Fires\")\n",
        "df_copy=df.copy()\n",
        "df.head()"
      ],
      "execution_count": null,
      "outputs": [
        {
          "output_type": "execute_result",
          "data": {
            "text/html": [
              "<div>\n",
              "<style scoped>\n",
              "    .dataframe tbody tr th:only-of-type {\n",
              "        vertical-align: middle;\n",
              "    }\n",
              "\n",
              "    .dataframe tbody tr th {\n",
              "        vertical-align: top;\n",
              "    }\n",
              "\n",
              "    .dataframe thead th {\n",
              "        text-align: right;\n",
              "    }\n",
              "</style>\n",
              "<table border=\"1\" class=\"dataframe\">\n",
              "  <thead>\n",
              "    <tr style=\"text-align: right;\">\n",
              "      <th></th>\n",
              "      <th>year</th>\n",
              "      <th>month</th>\n",
              "      <th>state</th>\n",
              "      <th>number_of_fires</th>\n",
              "      <th>date</th>\n",
              "    </tr>\n",
              "  </thead>\n",
              "  <tbody>\n",
              "    <tr>\n",
              "      <th>0</th>\n",
              "      <td>1998</td>\n",
              "      <td>Janeiro</td>\n",
              "      <td>Acre</td>\n",
              "      <td>0</td>\n",
              "      <td>01-01-1998</td>\n",
              "    </tr>\n",
              "    <tr>\n",
              "      <th>1</th>\n",
              "      <td>1999</td>\n",
              "      <td>Janeiro</td>\n",
              "      <td>Acre</td>\n",
              "      <td>0</td>\n",
              "      <td>01-01-1999</td>\n",
              "    </tr>\n",
              "    <tr>\n",
              "      <th>2</th>\n",
              "      <td>2000</td>\n",
              "      <td>Janeiro</td>\n",
              "      <td>Acre</td>\n",
              "      <td>0</td>\n",
              "      <td>01-01-2000</td>\n",
              "    </tr>\n",
              "    <tr>\n",
              "      <th>3</th>\n",
              "      <td>2001</td>\n",
              "      <td>Janeiro</td>\n",
              "      <td>Acre</td>\n",
              "      <td>0</td>\n",
              "      <td>01-01-2001</td>\n",
              "    </tr>\n",
              "    <tr>\n",
              "      <th>4</th>\n",
              "      <td>2002</td>\n",
              "      <td>Janeiro</td>\n",
              "      <td>Acre</td>\n",
              "      <td>0</td>\n",
              "      <td>01-01-2002</td>\n",
              "    </tr>\n",
              "  </tbody>\n",
              "</table>\n",
              "</div>"
            ],
            "text/plain": [
              "   year    month state number_of_fires        date\n",
              "0  1998  Janeiro  Acre              0   01-01-1998\n",
              "1  1999  Janeiro  Acre              0   01-01-1999\n",
              "2  2000  Janeiro  Acre              0   01-01-2000\n",
              "3  2001  Janeiro  Acre              0   01-01-2001\n",
              "4  2002  Janeiro  Acre              0   01-01-2002"
            ]
          },
          "metadata": {
            "tags": []
          },
          "execution_count": 34
        }
      ]
    },
    {
      "cell_type": "code",
      "metadata": {
        "id": "ouq6FOlMJ3gb",
        "colab": {
          "base_uri": "https://localhost:8080/",
          "height": 202
        },
        "outputId": "61e5288c-b6e0-4e4f-aa5d-40d523410668"
      },
      "source": [
        "df = df.drop(df.index[0])\n",
        "df = df.reset_index()\n",
        "df.head()"
      ],
      "execution_count": null,
      "outputs": [
        {
          "output_type": "execute_result",
          "data": {
            "text/html": [
              "<div>\n",
              "<style scoped>\n",
              "    .dataframe tbody tr th:only-of-type {\n",
              "        vertical-align: middle;\n",
              "    }\n",
              "\n",
              "    .dataframe tbody tr th {\n",
              "        vertical-align: top;\n",
              "    }\n",
              "\n",
              "    .dataframe thead th {\n",
              "        text-align: right;\n",
              "    }\n",
              "</style>\n",
              "<table border=\"1\" class=\"dataframe\">\n",
              "  <thead>\n",
              "    <tr style=\"text-align: right;\">\n",
              "      <th></th>\n",
              "      <th>index</th>\n",
              "      <th>year</th>\n",
              "      <th>month</th>\n",
              "      <th>state</th>\n",
              "      <th>number_of_fires</th>\n",
              "      <th>date</th>\n",
              "    </tr>\n",
              "  </thead>\n",
              "  <tbody>\n",
              "    <tr>\n",
              "      <th>0</th>\n",
              "      <td>1</td>\n",
              "      <td>1999</td>\n",
              "      <td>Janeiro</td>\n",
              "      <td>Acre</td>\n",
              "      <td>0</td>\n",
              "      <td>01-01-1999</td>\n",
              "    </tr>\n",
              "    <tr>\n",
              "      <th>1</th>\n",
              "      <td>2</td>\n",
              "      <td>2000</td>\n",
              "      <td>Janeiro</td>\n",
              "      <td>Acre</td>\n",
              "      <td>0</td>\n",
              "      <td>01-01-2000</td>\n",
              "    </tr>\n",
              "    <tr>\n",
              "      <th>2</th>\n",
              "      <td>3</td>\n",
              "      <td>2001</td>\n",
              "      <td>Janeiro</td>\n",
              "      <td>Acre</td>\n",
              "      <td>0</td>\n",
              "      <td>01-01-2001</td>\n",
              "    </tr>\n",
              "    <tr>\n",
              "      <th>3</th>\n",
              "      <td>4</td>\n",
              "      <td>2002</td>\n",
              "      <td>Janeiro</td>\n",
              "      <td>Acre</td>\n",
              "      <td>0</td>\n",
              "      <td>01-01-2002</td>\n",
              "    </tr>\n",
              "    <tr>\n",
              "      <th>4</th>\n",
              "      <td>5</td>\n",
              "      <td>2003</td>\n",
              "      <td>Janeiro</td>\n",
              "      <td>Acre</td>\n",
              "      <td>10</td>\n",
              "      <td>01-01-2003</td>\n",
              "    </tr>\n",
              "  </tbody>\n",
              "</table>\n",
              "</div>"
            ],
            "text/plain": [
              "   index  year    month state number_of_fires        date\n",
              "0      1  1999  Janeiro  Acre              0   01-01-1999\n",
              "1      2  2000  Janeiro  Acre              0   01-01-2000\n",
              "2      3  2001  Janeiro  Acre              0   01-01-2001\n",
              "3      4  2002  Janeiro  Acre              0   01-01-2002\n",
              "4      5  2003  Janeiro  Acre             10   01-01-2003"
            ]
          },
          "metadata": {
            "tags": []
          },
          "execution_count": 35
        }
      ]
    },
    {
      "cell_type": "code",
      "metadata": {
        "colab": {
          "base_uri": "https://localhost:8080/",
          "height": 202
        },
        "id": "PvI53f4cK9u4",
        "outputId": "40de15ed-afef-4ccf-8f39-50602addf2af"
      },
      "source": [
        "df = df.drop(df.index[[2,3]])\n",
        "df = df.reset_index()\n",
        "df.head()"
      ],
      "execution_count": null,
      "outputs": [
        {
          "output_type": "execute_result",
          "data": {
            "text/html": [
              "<div>\n",
              "<style scoped>\n",
              "    .dataframe tbody tr th:only-of-type {\n",
              "        vertical-align: middle;\n",
              "    }\n",
              "\n",
              "    .dataframe tbody tr th {\n",
              "        vertical-align: top;\n",
              "    }\n",
              "\n",
              "    .dataframe thead th {\n",
              "        text-align: right;\n",
              "    }\n",
              "</style>\n",
              "<table border=\"1\" class=\"dataframe\">\n",
              "  <thead>\n",
              "    <tr style=\"text-align: right;\">\n",
              "      <th></th>\n",
              "      <th>level_0</th>\n",
              "      <th>index</th>\n",
              "      <th>year</th>\n",
              "      <th>month</th>\n",
              "      <th>state</th>\n",
              "      <th>number_of_fires</th>\n",
              "      <th>date</th>\n",
              "    </tr>\n",
              "  </thead>\n",
              "  <tbody>\n",
              "    <tr>\n",
              "      <th>0</th>\n",
              "      <td>0</td>\n",
              "      <td>1</td>\n",
              "      <td>1999</td>\n",
              "      <td>Janeiro</td>\n",
              "      <td>Acre</td>\n",
              "      <td>0</td>\n",
              "      <td>01-01-1999</td>\n",
              "    </tr>\n",
              "    <tr>\n",
              "      <th>1</th>\n",
              "      <td>1</td>\n",
              "      <td>2</td>\n",
              "      <td>2000</td>\n",
              "      <td>Janeiro</td>\n",
              "      <td>Acre</td>\n",
              "      <td>0</td>\n",
              "      <td>01-01-2000</td>\n",
              "    </tr>\n",
              "    <tr>\n",
              "      <th>2</th>\n",
              "      <td>4</td>\n",
              "      <td>5</td>\n",
              "      <td>2003</td>\n",
              "      <td>Janeiro</td>\n",
              "      <td>Acre</td>\n",
              "      <td>10</td>\n",
              "      <td>01-01-2003</td>\n",
              "    </tr>\n",
              "    <tr>\n",
              "      <th>3</th>\n",
              "      <td>5</td>\n",
              "      <td>6</td>\n",
              "      <td>2004</td>\n",
              "      <td>Janeiro</td>\n",
              "      <td>Acre</td>\n",
              "      <td>0</td>\n",
              "      <td>01-01-2004</td>\n",
              "    </tr>\n",
              "    <tr>\n",
              "      <th>4</th>\n",
              "      <td>6</td>\n",
              "      <td>7</td>\n",
              "      <td>2005</td>\n",
              "      <td>Janeiro</td>\n",
              "      <td>Acre</td>\n",
              "      <td>12</td>\n",
              "      <td>01-01-2005</td>\n",
              "    </tr>\n",
              "  </tbody>\n",
              "</table>\n",
              "</div>"
            ],
            "text/plain": [
              "   level_0  index  year    month state number_of_fires        date\n",
              "0        0      1  1999  Janeiro  Acre              0   01-01-1999\n",
              "1        1      2  2000  Janeiro  Acre              0   01-01-2000\n",
              "2        4      5  2003  Janeiro  Acre             10   01-01-2003\n",
              "3        5      6  2004  Janeiro  Acre              0   01-01-2004\n",
              "4        6      7  2005  Janeiro  Acre             12   01-01-2005"
            ]
          },
          "metadata": {
            "tags": []
          },
          "execution_count": 37
        }
      ]
    },
    {
      "cell_type": "code",
      "metadata": {
        "id": "2uC0-HiOLO2P"
      },
      "source": [
        ""
      ],
      "execution_count": null,
      "outputs": []
    },
    {
      "cell_type": "code",
      "metadata": {
        "colab": {
          "base_uri": "https://localhost:8080/",
          "height": 202
        },
        "id": "1hlzIb-9Lbqj",
        "outputId": "f322b6ac-0a4b-4c23-aca2-ca6d5ed1eff9"
      },
      "source": [
        "df = df.drop(df.index[1:4])\n",
        "df.head()"
      ],
      "execution_count": null,
      "outputs": [
        {
          "output_type": "execute_result",
          "data": {
            "text/html": [
              "<div>\n",
              "<style scoped>\n",
              "    .dataframe tbody tr th:only-of-type {\n",
              "        vertical-align: middle;\n",
              "    }\n",
              "\n",
              "    .dataframe tbody tr th {\n",
              "        vertical-align: top;\n",
              "    }\n",
              "\n",
              "    .dataframe thead th {\n",
              "        text-align: right;\n",
              "    }\n",
              "</style>\n",
              "<table border=\"1\" class=\"dataframe\">\n",
              "  <thead>\n",
              "    <tr style=\"text-align: right;\">\n",
              "      <th></th>\n",
              "      <th>level_0</th>\n",
              "      <th>index</th>\n",
              "      <th>year</th>\n",
              "      <th>month</th>\n",
              "      <th>state</th>\n",
              "      <th>number_of_fires</th>\n",
              "      <th>date</th>\n",
              "    </tr>\n",
              "  </thead>\n",
              "  <tbody>\n",
              "    <tr>\n",
              "      <th>0</th>\n",
              "      <td>0</td>\n",
              "      <td>1</td>\n",
              "      <td>1999</td>\n",
              "      <td>Janeiro</td>\n",
              "      <td>Acre</td>\n",
              "      <td>0</td>\n",
              "      <td>01-01-1999</td>\n",
              "    </tr>\n",
              "    <tr>\n",
              "      <th>7</th>\n",
              "      <td>9</td>\n",
              "      <td>10</td>\n",
              "      <td>2008</td>\n",
              "      <td>Janeiro</td>\n",
              "      <td>Acre</td>\n",
              "      <td>0</td>\n",
              "      <td>01-01-2008</td>\n",
              "    </tr>\n",
              "    <tr>\n",
              "      <th>8</th>\n",
              "      <td>10</td>\n",
              "      <td>11</td>\n",
              "      <td>2009</td>\n",
              "      <td>Janeiro</td>\n",
              "      <td>Acre</td>\n",
              "      <td>0</td>\n",
              "      <td>01-01-2009</td>\n",
              "    </tr>\n",
              "    <tr>\n",
              "      <th>9</th>\n",
              "      <td>11</td>\n",
              "      <td>12</td>\n",
              "      <td>2010</td>\n",
              "      <td>Janeiro</td>\n",
              "      <td>Acre</td>\n",
              "      <td>1</td>\n",
              "      <td>01-01-2010</td>\n",
              "    </tr>\n",
              "    <tr>\n",
              "      <th>10</th>\n",
              "      <td>12</td>\n",
              "      <td>13</td>\n",
              "      <td>2011</td>\n",
              "      <td>Janeiro</td>\n",
              "      <td>Acre</td>\n",
              "      <td>0</td>\n",
              "      <td>01-01-2011</td>\n",
              "    </tr>\n",
              "  </tbody>\n",
              "</table>\n",
              "</div>"
            ],
            "text/plain": [
              "    level_0  index  year    month state number_of_fires        date\n",
              "0         0      1  1999  Janeiro  Acre              0   01-01-1999\n",
              "7         9     10  2008  Janeiro  Acre              0   01-01-2008\n",
              "8        10     11  2009  Janeiro  Acre              0   01-01-2009\n",
              "9        11     12  2010  Janeiro  Acre              1   01-01-2010\n",
              "10       12     13  2011  Janeiro  Acre              0   01-01-2011"
            ]
          },
          "metadata": {
            "tags": []
          },
          "execution_count": 41
        }
      ]
    },
    {
      "cell_type": "code",
      "metadata": {
        "id": "xnUT6CfELd-b"
      },
      "source": [
        ""
      ],
      "execution_count": null,
      "outputs": []
    }
  ]
}