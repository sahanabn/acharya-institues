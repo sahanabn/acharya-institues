{
  "nbformat": 4,
  "nbformat_minor": 0,
  "metadata": {
    "colab": {
      "name": "revision.ipynb",
      "provenance": [],
      "collapsed_sections": []
    },
    "kernelspec": {
      "name": "python3",
      "display_name": "Python 3"
    }
  },
  "cells": [
    {
      "cell_type": "code",
      "metadata": {
        "colab": {
          "base_uri": "https://localhost:8080/"
        },
        "id": "zDjeAQg8siWJ",
        "outputId": "b84b22ce-c459-4fa2-a85c-0cd187c7d010"
      },
      "source": [
        "print(\"welcome to python revision class\")"
      ],
      "execution_count": null,
      "outputs": [
        {
          "output_type": "stream",
          "text": [
            "welcome to python revision class\n"
          ],
          "name": "stdout"
        }
      ]
    },
    {
      "cell_type": "code",
      "metadata": {
        "colab": {
          "base_uri": "https://localhost:8080/"
        },
        "id": "0nQlqCtWsnsG",
        "outputId": "5f1004d7-8265-437e-94af-eaf3d5b76811"
      },
      "source": [
        "if 5>2:\n",
        "  print(\"welcome to python revision class\")"
      ],
      "execution_count": null,
      "outputs": [
        {
          "output_type": "stream",
          "text": [
            "welcome to python revision class\n"
          ],
          "name": "stdout"
        }
      ]
    },
    {
      "cell_type": "code",
      "metadata": {
        "id": "0Pjr_zJ5svAe"
      },
      "source": [
        "if 5>12:\n",
        "  print(\"welcome to revision class\")\n",
        "  print(\"welcome to revision class day2\")"
      ],
      "execution_count": null,
      "outputs": []
    },
    {
      "cell_type": "code",
      "metadata": {
        "id": "O8-7CjFMtCTI"
      },
      "source": [
        "x=5       \n",
        "y=\"hello world\""
      ],
      "execution_count": null,
      "outputs": []
    },
    {
      "cell_type": "code",
      "metadata": {
        "colab": {
          "base_uri": "https://localhost:8080/"
        },
        "id": "YQRdGLeItF_p",
        "outputId": "2c896512-6834-42ac-8ceb-e669b84b8e11"
      },
      "source": [
        "x"
      ],
      "execution_count": null,
      "outputs": [
        {
          "output_type": "execute_result",
          "data": {
            "text/plain": [
              "5"
            ]
          },
          "metadata": {
            "tags": []
          },
          "execution_count": 5
        }
      ]
    },
    {
      "cell_type": "code",
      "metadata": {
        "colab": {
          "base_uri": "https://localhost:8080/",
          "height": 35
        },
        "id": "JdSWkgu8tIOk",
        "outputId": "d44e704d-b864-4d2c-cf2d-6705f2af81e2"
      },
      "source": [
        "y"
      ],
      "execution_count": null,
      "outputs": [
        {
          "output_type": "execute_result",
          "data": {
            "application/vnd.google.colaboratory.intrinsic+json": {
              "type": "string"
            },
            "text/plain": [
              "'hello world'"
            ]
          },
          "metadata": {
            "tags": []
          },
          "execution_count": 6
        }
      ]
    },
    {
      "cell_type": "code",
      "metadata": {
        "colab": {
          "base_uri": "https://localhost:8080/"
        },
        "id": "Rodo5-7ptIgQ",
        "outputId": "44732340-7f40-4eb1-ea3e-8ff715b75931"
      },
      "source": [
        "#this is comment\n",
        "print(\"welcome tp revision class\")"
      ],
      "execution_count": null,
      "outputs": [
        {
          "output_type": "stream",
          "text": [
            "welcome tp revision class\n"
          ],
          "name": "stdout"
        }
      ]
    },
    {
      "cell_type": "code",
      "metadata": {
        "colab": {
          "base_uri": "https://localhost:8080/"
        },
        "id": "17icY4pst1Fs",
        "outputId": "0424da63-7197-48f7-9f41-63dd31d9b3cb"
      },
      "source": [
        "x=5\n",
        "y=\"hello world\"\n",
        "print(x)\n",
        "print(y)"
      ],
      "execution_count": null,
      "outputs": [
        {
          "output_type": "stream",
          "text": [
            "5\n",
            "hello world\n"
          ],
          "name": "stdout"
        }
      ]
    },
    {
      "cell_type": "code",
      "metadata": {
        "colab": {
          "base_uri": "https://localhost:8080/"
        },
        "id": "pP76Xqnnt8ms",
        "outputId": "dd63756d-d4a1-445b-9d91-ef24d2b02579"
      },
      "source": [
        "x=5\n",
        "y=\"hello world\"\n",
        "print(type(x))\n",
        "print(type(y))"
      ],
      "execution_count": null,
      "outputs": [
        {
          "output_type": "stream",
          "text": [
            "<class 'int'>\n",
            "<class 'str'>\n"
          ],
          "name": "stdout"
        }
      ]
    },
    {
      "cell_type": "code",
      "metadata": {
        "colab": {
          "base_uri": "https://localhost:8080/"
        },
        "id": "VtQL6I_DuSOT",
        "outputId": "34e0e92b-3a85-4168-f5f8-392dc6a7e746"
      },
      "source": [
        "x=50.5\n",
        "y=1j\n",
        "print(type(x))\n",
        "print(type(y))"
      ],
      "execution_count": null,
      "outputs": [
        {
          "output_type": "stream",
          "text": [
            "<class 'float'>\n",
            "<class 'complex'>\n"
          ],
          "name": "stdout"
        }
      ]
    },
    {
      "cell_type": "code",
      "metadata": {
        "colab": {
          "base_uri": "https://localhost:8080/"
        },
        "id": "W1iEyyF5uagF",
        "outputId": "b4e4764a-3b98-4617-8dbc-996995b6cae3"
      },
      "source": [
        "x=[\"apple\",\"banana\",\"watermelon\"]\n",
        "y=range(6)\n",
        "print(type(x))\n",
        "print(type(y))"
      ],
      "execution_count": null,
      "outputs": [
        {
          "output_type": "stream",
          "text": [
            "<class 'list'>\n",
            "<class 'range'>\n"
          ],
          "name": "stdout"
        }
      ]
    },
    {
      "cell_type": "code",
      "metadata": {
        "colab": {
          "base_uri": "https://localhost:8080/"
        },
        "id": "fW01yFwBuq-9",
        "outputId": "e9583f79-cf95-4de4-e6ad-c4e99404f4df"
      },
      "source": [
        "x=(\"apple\",\"banana\",\"watermelon\")\n",
        "print(type(x))"
      ],
      "execution_count": null,
      "outputs": [
        {
          "output_type": "stream",
          "text": [
            "<class 'tuple'>\n"
          ],
          "name": "stdout"
        }
      ]
    },
    {
      "cell_type": "code",
      "metadata": {
        "colab": {
          "base_uri": "https://localhost:8080/"
        },
        "id": "f8gQabchvbHz",
        "outputId": "5aca06d9-8f62-46c5-e057-b9005062246e"
      },
      "source": [
        "x={\"name\":\"apple\",\"type\":\"fruit\"}\n",
        "print(type(x))\n",
        "print(x)\n"
      ],
      "execution_count": null,
      "outputs": [
        {
          "output_type": "stream",
          "text": [
            "<class 'dict'>\n",
            "{'name': 'apple', 'type': 'fruit'}\n"
          ],
          "name": "stdout"
        }
      ]
    },
    {
      "cell_type": "code",
      "metadata": {
        "colab": {
          "base_uri": "https://localhost:8080/"
        },
        "id": "xWdtn4P0wDDD",
        "outputId": "c64101a8-6b6b-4dcb-f4c6-896a553ac97b"
      },
      "source": [
        "x=True\n",
        "print(x)\n",
        "print(type(x))"
      ],
      "execution_count": null,
      "outputs": [
        {
          "output_type": "stream",
          "text": [
            "True\n",
            "<class 'bool'>\n"
          ],
          "name": "stdout"
        }
      ]
    },
    {
      "cell_type": "code",
      "metadata": {
        "colab": {
          "base_uri": "https://localhost:8080/"
        },
        "id": "OdwqDdeLwKLV",
        "outputId": "e6902024-f9e3-4995-fc58-4c299a15decc"
      },
      "source": [
        "x=b\"hello\"\n",
        "print(x)\n",
        "print(type(x))"
      ],
      "execution_count": null,
      "outputs": [
        {
          "output_type": "stream",
          "text": [
            "b'hello'\n",
            "<class 'bytes'>\n"
          ],
          "name": "stdout"
        }
      ]
    },
    {
      "cell_type": "code",
      "metadata": {
        "colab": {
          "base_uri": "https://localhost:8080/"
        },
        "id": "U-kdQQ89wS0I",
        "outputId": "efb6c8fb-5185-47a7-8d2a-2dc807f0b0ed"
      },
      "source": [
        "x=bytearray(5)\n",
        "print(type(x))\n",
        "print(x)"
      ],
      "execution_count": null,
      "outputs": [
        {
          "output_type": "stream",
          "text": [
            "<class 'bytearray'>\n",
            "bytearray(b'\\x00\\x00\\x00\\x00\\x00')\n"
          ],
          "name": "stdout"
        }
      ]
    },
    {
      "cell_type": "code",
      "metadata": {
        "id": "sM_G67F-wdpC"
      },
      "source": [
        "x=memoryview(bytes(5))"
      ],
      "execution_count": null,
      "outputs": []
    },
    {
      "cell_type": "code",
      "metadata": {
        "colab": {
          "base_uri": "https://localhost:8080/"
        },
        "id": "GSXOhkVawoiv",
        "outputId": "ea856bad-3545-4bda-be75-3a6e3fc8394b"
      },
      "source": [
        "x"
      ],
      "execution_count": null,
      "outputs": [
        {
          "output_type": "execute_result",
          "data": {
            "text/plain": [
              "<memory at 0x7fd4f0faeb88>"
            ]
          },
          "metadata": {
            "tags": []
          },
          "execution_count": 18
        }
      ]
    },
    {
      "cell_type": "code",
      "metadata": {
        "id": "0qjHR6PTwpng"
      },
      "source": [
        "x=1# int\n",
        "y=2.8# float\n",
        "z=1j# complex"
      ],
      "execution_count": null,
      "outputs": []
    },
    {
      "cell_type": "code",
      "metadata": {
        "colab": {
          "base_uri": "https://localhost:8080/"
        },
        "id": "PuJOsXtpxDWU",
        "outputId": "4b26a483-634d-4280-9e10-bf9a23ffe6cc"
      },
      "source": [
        "y"
      ],
      "execution_count": null,
      "outputs": [
        {
          "output_type": "execute_result",
          "data": {
            "text/plain": [
              "2.8"
            ]
          },
          "metadata": {
            "tags": []
          },
          "execution_count": 20
        }
      ]
    },
    {
      "cell_type": "code",
      "metadata": {
        "colab": {
          "base_uri": "https://localhost:8080/"
        },
        "id": "2LslDTRoxFb7",
        "outputId": "62f0a968-f2b4-417c-9676-473a2512bee3"
      },
      "source": [
        "#verification of data types\n",
        "type(x)\n",
        "type(y)\n",
        "\n"
      ],
      "execution_count": null,
      "outputs": [
        {
          "output_type": "execute_result",
          "data": {
            "text/plain": [
              "float"
            ]
          },
          "metadata": {
            "tags": []
          },
          "execution_count": 21
        }
      ]
    },
    {
      "cell_type": "code",
      "metadata": {
        "colab": {
          "base_uri": "https://localhost:8080/"
        },
        "id": "oJ--UStYxSjX",
        "outputId": "eb2d846a-e32f-45f8-c21d-c911ad30a044"
      },
      "source": [
        "print(type(x))\n",
        "print(type(y))\n",
        "print(type(z))"
      ],
      "execution_count": null,
      "outputs": [
        {
          "output_type": "stream",
          "text": [
            "<class 'int'>\n",
            "<class 'float'>\n",
            "<class 'complex'>\n"
          ],
          "name": "stdout"
        }
      ]
    },
    {
      "cell_type": "code",
      "metadata": {
        "id": "_pJQsEwzxXaP"
      },
      "source": [
        "x=int(1)\n",
        "x=int(9.8)\n",
        "x=int(3)\n"
      ],
      "execution_count": null,
      "outputs": []
    },
    {
      "cell_type": "code",
      "metadata": {
        "colab": {
          "base_uri": "https://localhost:8080/"
        },
        "id": "9vx295bjyFd5",
        "outputId": "139138ef-0f83-49b0-9d00-bfcb66874332"
      },
      "source": [
        "x=str(\"PKN\")\n",
        "y=str(9.8)\n",
        "z=str(3)\n",
        "print(type(x))\n",
        "print(type(y))\n",
        "print(type(z))"
      ],
      "execution_count": null,
      "outputs": [
        {
          "output_type": "stream",
          "text": [
            "<class 'str'>\n",
            "<class 'str'>\n",
            "<class 'str'>\n"
          ],
          "name": "stdout"
        }
      ]
    },
    {
      "cell_type": "markdown",
      "metadata": {
        "id": "e7H7a8s7zGrE"
      },
      "source": [
        "## multiline strings"
      ]
    },
    {
      "cell_type": "code",
      "metadata": {
        "colab": {
          "base_uri": "https://localhost:8080/"
        },
        "id": "tZHIfSXkydvW",
        "outputId": "6fa503a6-d6a7-439b-f8fc-7a76260d7377"
      },
      "source": [
        "a='''aditya has an doubt,\n",
        "which is regarding scan,\n",
        "which we need to adress\n",
        "the concept'''\n",
        "print(a)"
      ],
      "execution_count": null,
      "outputs": [
        {
          "output_type": "stream",
          "text": [
            "aditya has an doubt,\n",
            "which is regarding scan,\n",
            "which we need to adress\n",
            "the concept\n"
          ],
          "name": "stdout"
        }
      ]
    },
    {
      "cell_type": "code",
      "metadata": {
        "colab": {
          "base_uri": "https://localhost:8080/"
        },
        "id": "n5C96DRbyx4R",
        "outputId": "0d9f5645-aa03-432f-d3e2-8bd42c803e01"
      },
      "source": [
        "\n",
        "print(10>9)\n",
        "print(10==9)\n",
        "print(10<9)"
      ],
      "execution_count": null,
      "outputs": [
        {
          "output_type": "stream",
          "text": [
            "True\n",
            "False\n",
            "False\n"
          ],
          "name": "stdout"
        }
      ]
    },
    {
      "cell_type": "code",
      "metadata": {
        "colab": {
          "base_uri": "https://localhost:8080/"
        },
        "id": "-EbPYr0mzjE6",
        "outputId": "8b2b4e06-8b51-4acf-e15e-0e91dbe4d70f"
      },
      "source": [
        "a=200\n",
        "b=33\n",
        "if b>a:\n",
        "  print(\"b is greater than a\")\n",
        "else:\n",
        "  print(\"b is not greater than a\")"
      ],
      "execution_count": null,
      "outputs": [
        {
          "output_type": "stream",
          "text": [
            "b is not greater than a\n"
          ],
          "name": "stdout"
        }
      ]
    },
    {
      "cell_type": "code",
      "metadata": {
        "colab": {
          "base_uri": "https://localhost:8080/"
        },
        "id": "7n7oj5Okz6O9",
        "outputId": "e56e9b19-0681-428c-dd6e-f05010adc195"
      },
      "source": [
        "print(10+5)"
      ],
      "execution_count": null,
      "outputs": [
        {
          "output_type": "stream",
          "text": [
            "15\n"
          ],
          "name": "stdout"
        }
      ]
    },
    {
      "cell_type": "code",
      "metadata": {
        "colab": {
          "base_uri": "https://localhost:8080/"
        },
        "id": "54rHuKQY0KJb",
        "outputId": "c6282830-93a0-4648-b74c-18768fbde369"
      },
      "source": [
        "x=2\n",
        "y=4\n",
        "print(x+y)\n",
        "print(x-y)\n",
        "print(x*y)\n",
        "print(x/y)\n",
        "print(x%y)\n",
        "print(x**y)\n",
        "print(x//y)"
      ],
      "execution_count": null,
      "outputs": [
        {
          "output_type": "stream",
          "text": [
            "6\n",
            "-2\n",
            "8\n",
            "0.5\n",
            "2\n",
            "16\n",
            "0\n"
          ],
          "name": "stdout"
        }
      ]
    },
    {
      "cell_type": "code",
      "metadata": {
        "id": "V6CpT6Am0VWj"
      },
      "source": [
        "thisislist=[\"apple\",\"banana\",\"grapes\"]"
      ],
      "execution_count": null,
      "outputs": []
    },
    {
      "cell_type": "code",
      "metadata": {
        "colab": {
          "base_uri": "https://localhost:8080/"
        },
        "id": "Tn_OgdT41epv",
        "outputId": "1813c300-15cd-4a0e-e74a-b377651db92f"
      },
      "source": [
        "thisislist"
      ],
      "execution_count": null,
      "outputs": [
        {
          "output_type": "execute_result",
          "data": {
            "text/plain": [
              "['apple', 'banana', 'grapes']"
            ]
          },
          "metadata": {
            "tags": []
          },
          "execution_count": 31
        }
      ]
    },
    {
      "cell_type": "code",
      "metadata": {
        "colab": {
          "base_uri": "https://localhost:8080/"
        },
        "id": "_vGslTXJ1f4H",
        "outputId": "f14a289f-5909-4982-f6c8-047cbcd70cb1"
      },
      "source": [
        "thisislist=[\"apple\",\"banana\",\"grapes\",\"apple\",\"banana\",\"grapes\"]\n",
        "print(thisislist)"
      ],
      "execution_count": null,
      "outputs": [
        {
          "output_type": "stream",
          "text": [
            "['apple', 'banana', 'grapes', 'apple', 'banana', 'grapes']\n"
          ],
          "name": "stdout"
        }
      ]
    },
    {
      "cell_type": "code",
      "metadata": {
        "colab": {
          "base_uri": "https://localhost:8080/"
        },
        "id": "6DicFHK518FL",
        "outputId": "9a685f49-3996-4498-93a8-a072fd563304"
      },
      "source": [
        "thisislist=[\"apple\",\"banana\",\"grapes\",\"apple1\",\"banana1\",\"grapes1\"]\n",
        "print(thisislist[1])"
      ],
      "execution_count": null,
      "outputs": [
        {
          "output_type": "stream",
          "text": [
            "banana\n"
          ],
          "name": "stdout"
        }
      ]
    },
    {
      "cell_type": "code",
      "metadata": {
        "colab": {
          "base_uri": "https://localhost:8080/"
        },
        "id": "hF-s2OVn2LzI",
        "outputId": "1c70fba4-14d3-4571-97b2-7cf720e0033a"
      },
      "source": [
        "thisislist=[\"apple\",\"banana\",\"grapes\",\"apple1\",\"banana1\",\"grapes1\"]\n",
        "print(thisislist[0:4])"
      ],
      "execution_count": null,
      "outputs": [
        {
          "output_type": "stream",
          "text": [
            "['apple', 'banana', 'grapes', 'apple1']\n"
          ],
          "name": "stdout"
        }
      ]
    },
    {
      "cell_type": "code",
      "metadata": {
        "colab": {
          "base_uri": "https://localhost:8080/"
        },
        "id": "YPJgvj7q2R-v",
        "outputId": "4ff2a7d7-d3a0-436b-9280-f39195232594"
      },
      "source": [
        "thisislist=[\"apple\",\"banana\",\"grapes\",\"apple1\",\"banana1\",\"grapes1\"]\n",
        "print(thisislist[-1])"
      ],
      "execution_count": null,
      "outputs": [
        {
          "output_type": "stream",
          "text": [
            "grapes1\n"
          ],
          "name": "stdout"
        }
      ]
    },
    {
      "cell_type": "code",
      "metadata": {
        "colab": {
          "base_uri": "https://localhost:8080/"
        },
        "id": "SDza7_Sx2UGV",
        "outputId": "eba212ba-bdcc-41e2-9316-9e89502d29ce"
      },
      "source": [
        "thisislist=[\"apple\",\"banana\",\"grapes\",\"apple1\",\"banana1\",\"grapes1\"]\n",
        "print(thisislist[:4])"
      ],
      "execution_count": null,
      "outputs": [
        {
          "output_type": "stream",
          "text": [
            "['apple', 'banana', 'grapes', 'apple1']\n"
          ],
          "name": "stdout"
        }
      ]
    },
    {
      "cell_type": "code",
      "metadata": {
        "colab": {
          "base_uri": "https://localhost:8080/"
        },
        "id": "7YgFoD292Ytl",
        "outputId": "6160827f-5636-4cea-a9ad-e4c04e58a6eb"
      },
      "source": [
        "thisislist=[\"apple\",\"banana\",\"grapes\",\"apple1\",\"banana1\",\"grapes1\"]\n",
        "print(thisislist[2:])"
      ],
      "execution_count": null,
      "outputs": [
        {
          "output_type": "stream",
          "text": [
            "['grapes', 'apple1', 'banana1', 'grapes1']\n"
          ],
          "name": "stdout"
        }
      ]
    },
    {
      "cell_type": "code",
      "metadata": {
        "colab": {
          "base_uri": "https://localhost:8080/"
        },
        "id": "IaDlOoME2ads",
        "outputId": "d895b9dd-3872-4790-f4ae-404e6ee8513e"
      },
      "source": [
        "thisislist=[\"apple\",\"banana\",\"grapes\",\"apple1\",\"banana1\",\"grapes1\"]\n",
        "thisislist[1]=\"blackcurrent\"\n",
        "print(thisislist)"
      ],
      "execution_count": null,
      "outputs": [
        {
          "output_type": "stream",
          "text": [
            "['apple', 'blackcurrent', 'grapes', 'apple1', 'banana1', 'grapes1']\n"
          ],
          "name": "stdout"
        }
      ]
    },
    {
      "cell_type": "code",
      "metadata": {
        "colab": {
          "base_uri": "https://localhost:8080/"
        },
        "id": "cSDg4XeJ3DHF",
        "outputId": "11f28ae5-ef10-432d-cbea-5cc49faa8cbe"
      },
      "source": [
        "thisislist=[\"apple\",\"banana\",\"grapes\",\"apple1\",\"banana1\",\"grapes1\"]\n",
        "thisislist[1]=[\"blackcurrent\",\"watermelon\"]\n",
        "print(thisislist)"
      ],
      "execution_count": null,
      "outputs": [
        {
          "output_type": "stream",
          "text": [
            "['apple', ['blackcurrent', 'watermelon'], 'grapes', 'apple1', 'banana1', 'grapes1']\n"
          ],
          "name": "stdout"
        }
      ]
    },
    {
      "cell_type": "code",
      "metadata": {
        "colab": {
          "base_uri": "https://localhost:8080/"
        },
        "id": "poeIKmig3MYt",
        "outputId": "b6d0d3e3-ff62-4cac-af44-8d49a48e17e7"
      },
      "source": [
        "thisislist=[\"apple\",\"banana\",\"grapes\",\"apple1\",\"banana1\",\"grapes1\"]\n",
        "thisislist[4]=\"blackcurrent\"\n",
        "print(thisislist)"
      ],
      "execution_count": null,
      "outputs": [
        {
          "output_type": "stream",
          "text": [
            "['apple', 'banana', 'grapes', 'apple1', 'blackcurrent', 'grapes1']\n"
          ],
          "name": "stdout"
        }
      ]
    },
    {
      "cell_type": "code",
      "metadata": {
        "colab": {
          "base_uri": "https://localhost:8080/"
        },
        "id": "_F9uPYBP3jcd",
        "outputId": "ccae4217-3d68-420b-fbf4-d49b8b172c8b"
      },
      "source": [
        "thisislist=[\"apple\",\"banana\",\"grapes\",\"apple1\",\"banana1\",\"grapes1\"]\n",
        "thisislist[0:4]=\"blackcurrent\"\n",
        "print(thisislist)"
      ],
      "execution_count": null,
      "outputs": [
        {
          "output_type": "stream",
          "text": [
            "['b', 'l', 'a', 'c', 'k', 'c', 'u', 'r', 'r', 'e', 'n', 't', 'banana1', 'grapes1']\n"
          ],
          "name": "stdout"
        }
      ]
    },
    {
      "cell_type": "code",
      "metadata": {
        "colab": {
          "base_uri": "https://localhost:8080/"
        },
        "id": "lIXP6l6F3nGT",
        "outputId": "48b1b962-3409-4f00-e5e8-7587e1edfa07"
      },
      "source": [
        "thisislist=[\"apple\",\"banana\",\"grapes\",\"apple1\",\"banana1\",\"grapes1\"]\n",
        "thisislist[-2]=\"blackcurrent\"\n",
        "print(thisislist)"
      ],
      "execution_count": null,
      "outputs": [
        {
          "output_type": "stream",
          "text": [
            "['apple', 'banana', 'grapes', 'apple1', 'blackcurrent', 'grapes1']\n"
          ],
          "name": "stdout"
        }
      ]
    },
    {
      "cell_type": "code",
      "metadata": {
        "colab": {
          "base_uri": "https://localhost:8080/"
        },
        "id": "34m6YRAS3rdc",
        "outputId": "96d99185-ced6-436e-cf23-0ec87eb7f4d1"
      },
      "source": [
        "thisislist=[\"apple\",\"banana\",\"grapes\",\"apple1\",\"banana1\",\"grapes1\"]\n",
        "thisislist.append(\"orange\")\n",
        "print(thisislist)"
      ],
      "execution_count": null,
      "outputs": [
        {
          "output_type": "stream",
          "text": [
            "['apple', 'banana', 'grapes', 'apple1', 'banana1', 'grapes1', 'orange']\n"
          ],
          "name": "stdout"
        }
      ]
    },
    {
      "cell_type": "code",
      "metadata": {
        "colab": {
          "base_uri": "https://localhost:8080/"
        },
        "id": "RpOhvTql53bO",
        "outputId": "d80d4874-ff1c-4dd5-94e3-29aa67e00f3f"
      },
      "source": [
        "thisislist=[\"apple\",\"banana\",\"grapes\",\"apple1\",\"banana1\",\"grapes1\"]\n",
        "thisislist.insert(2,\"orange\")\n",
        "print(thisislist)"
      ],
      "execution_count": null,
      "outputs": [
        {
          "output_type": "stream",
          "text": [
            "['apple', 'banana', 'orange', 'grapes', 'apple1', 'banana1', 'grapes1']\n"
          ],
          "name": "stdout"
        }
      ]
    },
    {
      "cell_type": "code",
      "metadata": {
        "colab": {
          "base_uri": "https://localhost:8080/"
        },
        "id": "D6GCOlAt6Xuw",
        "outputId": "43f7fbb2-cb17-4b72-aced-a10f0b8141ae"
      },
      "source": [
        "thisislist=[\"apple\",\"banana\",\"grapes\",\"apple1\",\"banana1\",\"grapes1\"]\n",
        "tropical=[\"mango\",\"pineapple\",\"papaya\",\"mango1\",\"pineapple1\",\"papaya1\"]\n",
        "thisislist.extend(tropical)\n",
        "print(thisislist)"
      ],
      "execution_count": null,
      "outputs": [
        {
          "output_type": "stream",
          "text": [
            "['apple', 'banana', 'grapes', 'apple1', 'banana1', 'grapes1', 'mango', 'pineapple', 'papaya', 'mango1', 'pineapple1', 'papaya1']\n"
          ],
          "name": "stdout"
        }
      ]
    },
    {
      "cell_type": "code",
      "metadata": {
        "colab": {
          "base_uri": "https://localhost:8080/"
        },
        "id": "autFHMIS6tXX",
        "outputId": "a9fb9048-902b-403a-b0b6-56ee12c62b04"
      },
      "source": [
        "thisislist=[\"apple\",\"banana\",\"grapes\",\"apple1\",\"banana1\",\"grapes1\"]\n",
        "thisistuple=(\"mango\",\"pineapple\",\"papaya\",\"mango1\",\"pineapple1\",\"papaya1\")\n",
        "thisislist.extend(thisistuple)\n",
        "print(thisislist)"
      ],
      "execution_count": null,
      "outputs": [
        {
          "output_type": "stream",
          "text": [
            "['apple', 'banana', 'grapes', 'apple1', 'banana1', 'grapes1', 'mango', 'pineapple', 'papaya', 'mango1', 'pineapple1', 'papaya1']\n"
          ],
          "name": "stdout"
        }
      ]
    },
    {
      "cell_type": "code",
      "metadata": {
        "colab": {
          "base_uri": "https://localhost:8080/"
        },
        "id": "vt_jUUBN7V8z",
        "outputId": "58bcfece-dc5e-4b19-d1a3-81d575c985d4"
      },
      "source": [
        "thisislist=[\"apple\",\"banana\",\"grapes\",\"apple1\",\"banana1\",\"grapes1\"]\n",
        "#tropical=[\"mango\",\"pineapple\",\"papaya\",\"mango1\",\"pineapple1\",\"papaya1\"]\n",
        "thisislist.remove(\"banana\")\n",
        "print(thisislist)"
      ],
      "execution_count": null,
      "outputs": [
        {
          "output_type": "stream",
          "text": [
            "['apple', 'grapes', 'apple1', 'banana1', 'grapes1']\n"
          ],
          "name": "stdout"
        }
      ]
    },
    {
      "cell_type": "code",
      "metadata": {
        "colab": {
          "base_uri": "https://localhost:8080/"
        },
        "id": "NN1kVk9m7h_L",
        "outputId": "3c0db314-7f84-4658-8355-94d796f904e3"
      },
      "source": [
        "thisislist=[\"apple\",\"banana\",\"grapes\",\"apple1\",\"banana1\",\"grapes1\"]\n",
        "#tropical=[\"mango\",\"pineapple\",\"papaya\",\"mango1\",\"pineapple1\",\"papaya1\"]\n",
        "thisislist.remove(\"apple1\")\n",
        "print(thisislist)"
      ],
      "execution_count": null,
      "outputs": [
        {
          "output_type": "stream",
          "text": [
            "['apple', 'banana', 'grapes', 'banana1', 'grapes1']\n"
          ],
          "name": "stdout"
        }
      ]
    },
    {
      "cell_type": "code",
      "metadata": {
        "colab": {
          "base_uri": "https://localhost:8080/"
        },
        "id": "lOoF210G7oup",
        "outputId": "67ad93d3-dfa4-4825-bead-34b066c5855e"
      },
      "source": [
        "thisislist=[\"apple\",\"banana\",\"grapes\",\"apple1\",\"banana1\",\"grapes1\"]\n",
        "#tropical=[\"mango\",\"pineapple\",\"papaya\",\"mango1\",\"pineapple1\",\"papaya1\"]\n",
        "thisislist.pop()\n",
        "print(thisislist)"
      ],
      "execution_count": null,
      "outputs": [
        {
          "output_type": "stream",
          "text": [
            "['apple', 'banana', 'grapes', 'apple1', 'banana1']\n"
          ],
          "name": "stdout"
        }
      ]
    },
    {
      "cell_type": "code",
      "metadata": {
        "colab": {
          "base_uri": "https://localhost:8080/"
        },
        "id": "bTLsAqJg75e0",
        "outputId": "02e31828-2cf6-40a5-deac-fcb371693af3"
      },
      "source": [
        "thisislist=[\"apple\",\"banana\",\"grapes\",\"apple1\",\"banana1\",\"grapes1\"]\n",
        "#tropical=[\"mango\",\"pineapple\",\"papaya\",\"mango1\",\"pineapple1\",\"papaya1\"]\n",
        "thisislist.pop(1)\n",
        "print(thisislist)"
      ],
      "execution_count": null,
      "outputs": [
        {
          "output_type": "stream",
          "text": [
            "['apple', 'grapes', 'apple1', 'banana1', 'grapes1']\n"
          ],
          "name": "stdout"
        }
      ]
    },
    {
      "cell_type": "code",
      "metadata": {
        "colab": {
          "base_uri": "https://localhost:8080/"
        },
        "id": "NNpnyKcP7-Ca",
        "outputId": "50aaa31b-e575-4280-82c3-bd48ac5ae921"
      },
      "source": [
        "thisislist=[\"apple\",\"banana\",\"grapes\",\"apple1\",\"banana1\",\"grapes1\"]\n",
        "#tropical=[\"mango\",\"pineapple\",\"papaya\",\"mango1\",\"pineapple1\",\"papaya1\"]\n",
        "thisislist.pop(0)\n",
        "print(thisislist)"
      ],
      "execution_count": null,
      "outputs": [
        {
          "output_type": "stream",
          "text": [
            "['banana', 'grapes', 'apple1', 'banana1', 'grapes1']\n"
          ],
          "name": "stdout"
        }
      ]
    },
    {
      "cell_type": "code",
      "metadata": {
        "colab": {
          "base_uri": "https://localhost:8080/"
        },
        "id": "qCkzTEwP8BUd",
        "outputId": "1d691446-183b-405d-c5f7-67066bf34d8c"
      },
      "source": [
        "thisislist=[\"apple\",\"banana\",\"grapes\",\"apple1\",\"banana1\",\"grapes1\"]\n",
        "#tropical=[\"mango\",\"pineapple\",\"papaya\",\"mango1\",\"pineapple1\",\"papaya1\"]\n",
        "#del thisislist\n",
        "thisislist"
      ],
      "execution_count": null,
      "outputs": [
        {
          "output_type": "execute_result",
          "data": {
            "text/plain": [
              "['apple', 'banana', 'grapes', 'apple1', 'banana1', 'grapes1']"
            ]
          },
          "metadata": {
            "tags": []
          },
          "execution_count": 52
        }
      ]
    },
    {
      "cell_type": "code",
      "metadata": {
        "id": "ao6fc_Wx8hdO"
      },
      "source": [
        "thisislist=[\"apple\",\"banana\",\"grapes\",\"apple1\",\"banana1\",\"grapes1\"]\n",
        "#tropical=[\"mango\",\"pineapple\",\"papaya\",\"mango1\",\"pineapple1\",\"papaya1\"]\n",
        "del thisislist"
      ],
      "execution_count": null,
      "outputs": []
    },
    {
      "cell_type": "code",
      "metadata": {
        "colab": {
          "base_uri": "https://localhost:8080/"
        },
        "id": "LJDNwUpA8NC2",
        "outputId": "9a11218c-986d-4c79-eb70-c1756f7878b8"
      },
      "source": [
        "thisislist=[\"apple\",\"banana\",\"grapes\",\"apple1\",\"banana1\",\"grapes1\"]\n",
        "#tropical=[\"mango\",\"pineapple\",\"papaya\",\"mango1\",\"pineapple1\",\"papaya1\"]\n",
        "thisislist.clear()\n",
        "print(thisislist)"
      ],
      "execution_count": null,
      "outputs": [
        {
          "output_type": "stream",
          "text": [
            "[]\n"
          ],
          "name": "stdout"
        }
      ]
    },
    {
      "cell_type": "code",
      "metadata": {
        "colab": {
          "base_uri": "https://localhost:8080/"
        },
        "id": "aq6WDj7w9Owt",
        "outputId": "c84cc146-d940-4aab-e07e-79fcb63a3851"
      },
      "source": [
        "thisislist=[\"apple\",\"banana\",\"grapes\",\"apple1\",\"banana1\",\"grapes1\"]\n",
        "for x in thisislist:\n",
        " print(x)"
      ],
      "execution_count": null,
      "outputs": [
        {
          "output_type": "stream",
          "text": [
            "apple\n",
            "banana\n",
            "grapes\n",
            "apple1\n",
            "banana1\n",
            "grapes1\n"
          ],
          "name": "stdout"
        }
      ]
    },
    {
      "cell_type": "code",
      "metadata": {
        "colab": {
          "base_uri": "https://localhost:8080/"
        },
        "id": "gSDqa4Ms8sJ2",
        "outputId": "e1597fc1-ef65-4c84-8c5b-54ccf4b2d756"
      },
      "source": [
        "thisislist=[\"apple\",\"banana\",\"grapes\",\"apple1\",\"banana1\",\"grapes1\"]\n",
        "for i in range(len(thisislist)):\n",
        " print(thisislist[i])"
      ],
      "execution_count": null,
      "outputs": [
        {
          "output_type": "stream",
          "text": [
            "apple\n",
            "banana\n",
            "grapes\n",
            "apple1\n",
            "banana1\n",
            "grapes1\n"
          ],
          "name": "stdout"
        }
      ]
    },
    {
      "cell_type": "code",
      "metadata": {
        "id": "j-zBGd3q_4wG",
        "colab": {
          "base_uri": "https://localhost:8080/"
        },
        "outputId": "c484631f-4391-4c54-ef64-966140379bee"
      },
      "source": [
        "fruits=[\"apple\",\"banana\",\"cherry\",\"kiwi\",\"mango\"]\n",
        "newlist=[]\n",
        "for x in fruits:\n",
        "  if\"a\" in x:\n",
        "    newlist.append(x)\n",
        "    print(newlist)"
      ],
      "execution_count": null,
      "outputs": [
        {
          "output_type": "stream",
          "text": [
            "['apple']\n",
            "['apple', 'banana']\n",
            "['apple', 'banana', 'mango']\n"
          ],
          "name": "stdout"
        }
      ]
    },
    {
      "cell_type": "code",
      "metadata": {
        "id": "MkHVwciDCfA-",
        "colab": {
          "base_uri": "https://localhost:8080/"
        },
        "outputId": "d19c750b-7618-4722-ea5f-352730de45ff"
      },
      "source": [
        "fruits=[\"apple\",\"banana\",\"cherry\",\"kiwi\",\"mango\"]\n",
        "newlist=[x for x in fruits if \"a\" in x]\n",
        "print(newlist)"
      ],
      "execution_count": null,
      "outputs": [
        {
          "output_type": "stream",
          "text": [
            "['apple', 'banana', 'mango']\n"
          ],
          "name": "stdout"
        }
      ]
    },
    {
      "cell_type": "markdown",
      "metadata": {
        "id": "LVN_4BNlzPQo"
      },
      "source": [
        ""
      ]
    },
    {
      "cell_type": "code",
      "metadata": {
        "colab": {
          "base_uri": "https://localhost:8080/"
        },
        "id": "KODsam3VxI9w",
        "outputId": "450099b9-dd8b-4e37-c0e4-b3df1fadb0fd"
      },
      "source": [
        "thisdict = {\n",
        "    \"Brand\": \"Ford\",\n",
        "    \"Model\":\"Mustang\",\n",
        "    \"Year\" : 1964\n",
        "}\n",
        "print(thisdict)"
      ],
      "execution_count": null,
      "outputs": [
        {
          "output_type": "stream",
          "text": [
            "{'Brand': 'Ford', 'Model': 'Mustang', 'Year': 1964}\n"
          ],
          "name": "stdout"
        }
      ]
    },
    {
      "cell_type": "code",
      "metadata": {
        "colab": {
          "base_uri": "https://localhost:8080/"
        },
        "id": "DpktkeaVxNiU",
        "outputId": "0caa5659-8c35-4e47-b30a-bf622446261e"
      },
      "source": [
        "thisdict = {\n",
        "    \"Brand\": \"Ford\",\n",
        "    \"Model\":\"Mustang\",\n",
        "    \"Year\" : 1964,\n",
        "    \"Country\": \"India\"\n",
        "}\n",
        "print(thisdict[\"Year\"])"
      ],
      "execution_count": null,
      "outputs": [
        {
          "output_type": "stream",
          "text": [
            "1964\n"
          ],
          "name": "stdout"
        }
      ]
    },
    {
      "cell_type": "code",
      "metadata": {
        "colab": {
          "base_uri": "https://localhost:8080/"
        },
        "id": "d7uKCiCIxtmF",
        "outputId": "9a6b62c0-19ea-4fbf-9980-6e344e2aad8a"
      },
      "source": [
        "thisdict = {\n",
        "    \"Brand\": \"Ford\",\n",
        "    \"Model\":\"Mustang\",\n",
        "    \"Country\": \"India\",\n",
        "    \"Year\" : 2020\n",
        "}\n",
        "print(thisdict[\"Year\"])"
      ],
      "execution_count": null,
      "outputs": [
        {
          "output_type": "stream",
          "text": [
            "2020\n"
          ],
          "name": "stdout"
        }
      ]
    },
    {
      "cell_type": "code",
      "metadata": {
        "colab": {
          "base_uri": "https://localhost:8080/"
        },
        "id": "2QpN7ESsxxpM",
        "outputId": "4d04e1c3-e653-4548-c2ab-5ede314a6da3"
      },
      "source": [
        "thisdict = {\n",
        "    \"Brand\": \"Ford\",\n",
        "    \"Model\":\"Mustang\",\n",
        "    \"Year\" : 1964,\n",
        "    \"Country\": \"India\",\n",
        "    \"Year\" : 2020\n",
        "}\n",
        "print(thisdict[\"Year\"])"
      ],
      "execution_count": null,
      "outputs": [
        {
          "output_type": "stream",
          "text": [
            "2020\n"
          ],
          "name": "stdout"
        }
      ]
    },
    {
      "cell_type": "code",
      "metadata": {
        "colab": {
          "base_uri": "https://localhost:8080/"
        },
        "id": "1mMAMwbqx83v",
        "outputId": "2a1f2cd8-bdb7-48c4-d229-af9c3abb0d77"
      },
      "source": [
        "print(len(thisdict))"
      ],
      "execution_count": null,
      "outputs": [
        {
          "output_type": "stream",
          "text": [
            "4\n"
          ],
          "name": "stdout"
        }
      ]
    },
    {
      "cell_type": "code",
      "metadata": {
        "colab": {
          "base_uri": "https://localhost:8080/"
        },
        "id": "2GAvMWaPyCqs",
        "outputId": "3215fb2c-82e7-4dc6-b17f-f4d4c35a675a"
      },
      "source": [
        "thisdict = {\n",
        "    \"Brand\": \"Ford\",\n",
        "    \"Model\":\"Mustang\",\n",
        "    \"Country\": \"India\",\n",
        "    \"Year\" : 1978,\n",
        "    \"colors\" :[\"Red\",\"White\",\"Blue\"] \n",
        "}\n",
        "print(thisdict)"
      ],
      "execution_count": null,
      "outputs": [
        {
          "output_type": "stream",
          "text": [
            "{'Brand': 'Ford', 'Model': 'Mustang', 'Country': 'India', 'Year': 1978, 'colors': ['Red', 'White', 'Blue']}\n"
          ],
          "name": "stdout"
        }
      ]
    },
    {
      "cell_type": "code",
      "metadata": {
        "colab": {
          "base_uri": "https://localhost:8080/"
        },
        "id": "dbDiZB_fyFma",
        "outputId": "ee652f1e-f981-4b9a-a1e0-a2300f193f7a"
      },
      "source": [
        "thisdict = {\n",
        "    \"Brand\": \"Ford\",\n",
        "    \"Model\":\"Mustang\",\n",
        "    \"Country\": \"India\",\n",
        "    \"Year\" : 1978,\n",
        "    \"colors\" :[\"Red\",\"White\",\"Blue\"] \n",
        "}\n",
        "print(type(thisdict))"
      ],
      "execution_count": null,
      "outputs": [
        {
          "output_type": "stream",
          "text": [
            "<class 'dict'>\n"
          ],
          "name": "stdout"
        }
      ]
    },
    {
      "cell_type": "code",
      "metadata": {
        "colab": {
          "base_uri": "https://localhost:8080/"
        },
        "id": "F6j0YEQzyIx2",
        "outputId": "718a85a2-0775-4e48-e671-880b47d857af"
      },
      "source": [
        "thisdict = {\n",
        "    \"Brand\": \"Ford\",\n",
        "    \"Model\":\"Mustang\",\n",
        "    \"Country\": \"India\",\n",
        "    \"Year\" : 1978,\n",
        "    \"colors\" :[\"Red\",\"White\",\"Blue\"] \n",
        "}\n",
        "thisdict[\"Year\"] = 2020\n",
        "print(thisdict)"
      ],
      "execution_count": null,
      "outputs": [
        {
          "output_type": "stream",
          "text": [
            "{'Brand': 'Ford', 'Model': 'Mustang', 'Country': 'India', 'Year': 2020, 'colors': ['Red', 'White', 'Blue']}\n"
          ],
          "name": "stdout"
        }
      ]
    },
    {
      "cell_type": "code",
      "metadata": {
        "colab": {
          "base_uri": "https://localhost:8080/"
        },
        "id": "3uD5D5RvyNe0",
        "outputId": "308ceacb-f275-4aa6-85f7-b09421f1ba50"
      },
      "source": [
        "thisdict = {\n",
        "    \"Brand\": \"Ford\",\n",
        "    \"Model\":\"Mustang\",\n",
        "    \"Country\": \"India\",\n",
        "    \"Year\" : 2022,\n",
        "    \"colors\" :[\"Red\",\"White\",\"Blue\"] \n",
        "}\n",
        "thisdict.update({\"Varshitha\":\"First owner\"})\n",
        "print(thisdict)"
      ],
      "execution_count": null,
      "outputs": [
        {
          "output_type": "stream",
          "text": [
            "{'Brand': 'Ford', 'Model': 'Mustang', 'Country': 'India', 'Year': 2022, 'colors': ['Red', 'White', 'Blue'], 'Varshitha': 'First owner'}\n"
          ],
          "name": "stdout"
        }
      ]
    },
    {
      "cell_type": "code",
      "metadata": {
        "colab": {
          "base_uri": "https://localhost:8080/"
        },
        "id": "Fb3ctrFMyQFO",
        "outputId": "3142e982-125f-4b25-d58f-267d5168d851"
      },
      "source": [
        "thisdict = {\n",
        "    \"Brand\": \"Ford\",\n",
        "    \"Model\":\"Mustang\",\n",
        "    \"Country\": \"India\",\n",
        "    \"Year\" : 2022,\n",
        "    \"colors\" :[\"Red\",\"White\",\"Blue\"] \n",
        "}\n",
        "del thisdict[\"Model\"]\n",
        "print(thisdict)"
      ],
      "execution_count": null,
      "outputs": [
        {
          "output_type": "stream",
          "text": [
            "{'Brand': 'Ford', 'Country': 'India', 'Year': 2022, 'colors': ['Red', 'White', 'Blue']}\n"
          ],
          "name": "stdout"
        }
      ]
    },
    {
      "cell_type": "code",
      "metadata": {
        "colab": {
          "base_uri": "https://localhost:8080/"
        },
        "id": "r687SGZVyS70",
        "outputId": "be23142b-88ce-43b2-c467-62603d3adaad"
      },
      "source": [
        "thisdict = {\n",
        "    \"Brand\": \"Ford\",\n",
        "    \"Model\":\"Mustang\",\n",
        "    \"Country\": \"India\",\n",
        "    \"Year\" : 2022,\n",
        "    \"colors\" :[\"Red\",\"White\",\"Blue\"] \n",
        "}\n",
        "thisdict.pop(\"colors\")\n",
        "print(thisdict)"
      ],
      "execution_count": null,
      "outputs": [
        {
          "output_type": "stream",
          "text": [
            "{'Brand': 'Ford', 'Model': 'Mustang', 'Country': 'India', 'Year': 2022}\n"
          ],
          "name": "stdout"
        }
      ]
    },
    {
      "cell_type": "code",
      "metadata": {
        "colab": {
          "base_uri": "https://localhost:8080/"
        },
        "id": "j0JYPMdmyVn2",
        "outputId": "2dcef191-35ed-47ba-d17d-d4679fc1d302"
      },
      "source": [
        "thisdict = {\n",
        "    \"Brand\": \"Ford\",\n",
        "    \"Model\":\"Mustang\",\n",
        "    \"Country\": \"India\",\n",
        "    \"Year\" : 2022,\n",
        "    \"colors\" :[\"Red\",\"White\",\"Blue\"] \n",
        "}\n",
        "thisdict.clear()\n",
        "print(thisdict)"
      ],
      "execution_count": null,
      "outputs": [
        {
          "output_type": "stream",
          "text": [
            "{}\n"
          ],
          "name": "stdout"
        }
      ]
    },
    {
      "cell_type": "code",
      "metadata": {
        "colab": {
          "base_uri": "https://localhost:8080/"
        },
        "id": "DNCv2RU0yZU0",
        "outputId": "de6cc3c6-e809-4164-ef4d-62275147d1d4"
      },
      "source": [
        "thisdict = {\n",
        "    \"child1\":{\n",
        "        \"Name\" : \"Thanusha\",\n",
        "        \"Year\" : 2014\n",
        "    },\n",
        "    \"child2\":{\n",
        "        \"Name\" : \"Varshitha\",\n",
        "        \"Year\" : 2001\n",
        "    },\n",
        "    \"child3\":{\n",
        "        \"Name\" : \"Abhi\",\n",
        "        \"Year\" : 2002   \n",
        "    } \n",
        "}\n",
        "print(thisdict)"
      ],
      "execution_count": null,
      "outputs": [
        {
          "output_type": "stream",
          "text": [
            "{'child1': {'Name': 'Thanusha', 'Year': 2014}, 'child2': {'Name': 'Varshitha', 'Year': 2001}, 'child3': {'Name': 'Abhi', 'Year': 2002}}\n"
          ],
          "name": "stdout"
        }
      ]
    },
    {
      "cell_type": "code",
      "metadata": {
        "colab": {
          "base_uri": "https://localhost:8080/"
        },
        "id": "YVt9lSKLydKi",
        "outputId": "0cccc047-f4ef-4389-881a-df518090a816"
      },
      "source": [
        "thisdict = {\n",
        "    \"Brand\": \"Ford\",\n",
        "    \"Model\":\"Mustang\",\n",
        "    \"Country\": \"India\",\n",
        "    \"Year\" : 2022,\n",
        "    \"colors\" :[\"Red\",\"White\",\"Blue\"] \n",
        "}\n",
        "Newdict = thisdict.copy()\n",
        "print(Newdict)"
      ],
      "execution_count": null,
      "outputs": [
        {
          "output_type": "stream",
          "text": [
            "{'Brand': 'Ford', 'Model': 'Mustang', 'Country': 'India', 'Year': 2022, 'colors': ['Red', 'White', 'Blue']}\n"
          ],
          "name": "stdout"
        }
      ]
    },
    {
      "cell_type": "code",
      "metadata": {
        "colab": {
          "base_uri": "https://localhost:8080/"
        },
        "id": "k68QWYm8ygbc",
        "outputId": "7a1583bc-2463-47e3-e693-497dd134ac7a"
      },
      "source": [
        "a=33\n",
        "b=200\n",
        "if b>a:\n",
        "  print(\"b is greater than a\")"
      ],
      "execution_count": null,
      "outputs": [
        {
          "output_type": "stream",
          "text": [
            "b is greater than a\n"
          ],
          "name": "stdout"
        }
      ]
    },
    {
      "cell_type": "code",
      "metadata": {
        "colab": {
          "base_uri": "https://localhost:8080/"
        },
        "id": "z9XsMCTsykdH",
        "outputId": "10a2f4a7-3573-4e8f-f5c2-17245fe23c3e"
      },
      "source": [
        "a=330\n",
        "b=33\n",
        "if b>a:\n",
        "  print(\"b is greater than a\")\n",
        "elif a==b:\n",
        "  print(\"a and b are equal\")  \n",
        "else:\n",
        "  print(\"a is greater than b\")"
      ],
      "execution_count": null,
      "outputs": [
        {
          "output_type": "stream",
          "text": [
            "a is greater than b\n"
          ],
          "name": "stdout"
        }
      ]
    },
    {
      "cell_type": "code",
      "metadata": {
        "colab": {
          "base_uri": "https://localhost:8080/"
        },
        "id": "sZn5vPuQyo5y",
        "outputId": "81ef2076-ffdd-4a4c-b5bf-8817f40c1788"
      },
      "source": [
        "a=330\n",
        "b=3345\n",
        "if b>a:print(\"b is greater than a\")"
      ],
      "execution_count": null,
      "outputs": [
        {
          "output_type": "stream",
          "text": [
            "b is greater than a\n"
          ],
          "name": "stdout"
        }
      ]
    },
    {
      "cell_type": "code",
      "metadata": {
        "colab": {
          "base_uri": "https://localhost:8080/"
        },
        "id": "DWNghftyyrq5",
        "outputId": "f6b8a4d7-8114-4d52-cc79-a5d2bc3e364b"
      },
      "source": [
        "a=330\n",
        "b=33\n",
        "c=350\n",
        "if a>b and c>a:\n",
        " print(\"Atleast one of the conditions is true\")"
      ],
      "execution_count": null,
      "outputs": [
        {
          "output_type": "stream",
          "text": [
            "Atleast one of the conditions is true\n"
          ],
          "name": "stdout"
        }
      ]
    },
    {
      "cell_type": "code",
      "metadata": {
        "colab": {
          "base_uri": "https://localhost:8080/"
        },
        "id": "YQgw2067yuEu",
        "outputId": "4bffd312-0a6e-48c8-8839-7d8f36772822"
      },
      "source": [
        "x=41\n",
        "\n",
        "if x>10:\n",
        "  print(\"It is above the value 10\")\n",
        "  if x>20:\n",
        "    print(\"It is above the value 20\")\n",
        "else :\n",
        "  print(\"Not above 20\")"
      ],
      "execution_count": null,
      "outputs": [
        {
          "output_type": "stream",
          "text": [
            "It is above the value 10\n",
            "It is above the value 20\n"
          ],
          "name": "stdout"
        }
      ]
    },
    {
      "cell_type": "markdown",
      "metadata": {
        "id": "cxEhpxuJy0Eu"
      },
      "source": [
        "Nested **IF**"
      ]
    },
    {
      "cell_type": "code",
      "metadata": {
        "colab": {
          "base_uri": "https://localhost:8080/"
        },
        "id": "0VYz2bnFy3B3",
        "outputId": "c4de8714-a96e-40b6-b418-8f7efceca1cb"
      },
      "source": [
        "#while Loop\n",
        "i=1\n",
        "while i<6:\n",
        "   print(i)\n",
        "   i+=1"
      ],
      "execution_count": null,
      "outputs": [
        {
          "output_type": "stream",
          "text": [
            "1\n",
            "2\n",
            "3\n",
            "4\n",
            "5\n"
          ],
          "name": "stdout"
        }
      ]
    },
    {
      "cell_type": "code",
      "metadata": {
        "id": "flLLBz8ny60Y"
      },
      "source": [
        "# Python program to find the L.C.M. of two input numbers\n",
        "\n",
        "def LCM(x,y):\n",
        " if x>y:\n",
        "  greater=x\n",
        " else:\n",
        "  greater=y\n",
        " while(True):\n",
        "  if ((greater % x==0) and (greater % y==0)):\n",
        "    lcm=greater\n",
        "    break\n",
        "  greater += 1\n",
        " return lcm\n",
        "num1 = int(input(\"Enter first number: \"))\n",
        "num2 = int(input(\"Enter second number: \"))\n",
        "print(\"The LCM of\", num1,\"and\",num2,\"is\",LCM(num1,num2))"
      ],
      "execution_count": null,
      "outputs": []
    },
    {
      "cell_type": "code",
      "metadata": {
        "colab": {
          "base_uri": "https://localhost:8080/"
        },
        "id": "lP6TYTU8y_AR",
        "outputId": "9f60ba0b-0e5b-426c-f5aa-054bef940ed2"
      },
      "source": [
        "#while Loop\n",
        "i=1\n",
        "while i<6:\n",
        "   print(i)\n",
        "   i+=1\n",
        "else:\n",
        "  print(\"i is no longer less than 6\")"
      ],
      "execution_count": null,
      "outputs": [
        {
          "output_type": "stream",
          "text": [
            "1\n",
            "2\n",
            "3\n",
            "4\n",
            "5\n",
            "i is no longer less than 6\n"
          ],
          "name": "stdout"
        }
      ]
    }
  ]
}