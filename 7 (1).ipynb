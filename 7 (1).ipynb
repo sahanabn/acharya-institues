{
  "nbformat": 4,
  "nbformat_minor": 0,
  "metadata": {
    "colab": {
      "name": "prog 12.ipynb",
      "provenance": [],
      "collapsed_sections": []
    },
    "kernelspec": {
      "name": "python3",
      "display_name": "Python 3"
    }
  },
  "cells": [
    {
      "cell_type": "markdown",
      "metadata": {
        "id": "E7Ge6-ExTcyv"
      },
      "source": [
        "**python dictionaries**"
      ]
    },
    {
      "cell_type": "code",
      "metadata": {
        "colab": {
          "base_uri": "https://localhost:8080/"
        },
        "id": "RTD5XADCTP6q",
        "outputId": "6fdb0214-2882-45ab-a0d4-7228022e87e8"
      },
      "source": [
        "thisdict={\"brand\":\"ford\",\"model\":\"mustang\",\"year\":1964}\n",
        "print(thisdict)"
      ],
      "execution_count": null,
      "outputs": [
        {
          "output_type": "stream",
          "text": [
            "{'brand': 'ford', 'model': 'mustang', 'year': 1964}\n"
          ],
          "name": "stdout"
        }
      ]
    },
    {
      "cell_type": "code",
      "metadata": {
        "colab": {
          "base_uri": "https://localhost:8080/"
        },
        "id": "jKSrhw3iT4UX",
        "outputId": "a04b85c3-56d5-44ee-a322-fc3174369af2"
      },
      "source": [
        "mydict={\"branch\":\"aeronautical engineering\",\"year\":3,\"semester\":5,\"USN\":\"1AY18AE061\"}\n",
        "print(mydict)"
      ],
      "execution_count": 3,
      "outputs": [
        {
          "output_type": "stream",
          "text": [
            "{'branch': 'aeronautical engineering', 'year': 3, 'semester': 5, 'USN': '1AY18AE061'}\n",
            "{'branch': 'aeronautical engineering', 'year': 3, 'semester': 5, 'USN': '1AY18AE061'}\n"
          ],
          "name": "stdout"
        }
      ]
    },
    {
      "cell_type": "code",
      "metadata": {
        "colab": {
          "base_uri": "https://localhost:8080/"
        },
        "id": "3QnLxoM0Uwwh",
        "outputId": "0185c1d0-5ca3-48ec-dfd5-224bde70cbb5"
      },
      "source": [
        "print(mydict[\"USN\"])"
      ],
      "execution_count": 4,
      "outputs": [
        {
          "output_type": "stream",
          "text": [
            "1AY18AE061\n"
          ],
          "name": "stdout"
        }
      ]
    },
    {
      "cell_type": "code",
      "metadata": {
        "colab": {
          "base_uri": "https://localhost:8080/"
        },
        "id": "TkK0XNntVClL",
        "outputId": "02c93d4d-9dfc-4b65-fb7d-6aea4a146cd9"
      },
      "source": [
        "mydict={\"branch\":\"aeronautical engineering\",\"year\":3,\"semester\":5,\"USN\":\"1AY18AE061\",\"year\":5}\n",
        "print(mydict[\"year\"])#if same value is written twice, value that is updated later is shown"
      ],
      "execution_count": 2,
      "outputs": [
        {
          "output_type": "stream",
          "text": [
            "5\n"
          ],
          "name": "stdout"
        }
      ]
    },
    {
      "cell_type": "code",
      "metadata": {
        "colab": {
          "base_uri": "https://localhost:8080/"
        },
        "id": "XD_AFTfqVYFl",
        "outputId": "00fa6348-433a-4d79-90fe-dcca24450390"
      },
      "source": [
        "print(len(mydict))"
      ],
      "execution_count": null,
      "outputs": [
        {
          "output_type": "stream",
          "text": [
            "4\n"
          ],
          "name": "stdout"
        }
      ]
    },
    {
      "cell_type": "code",
      "metadata": {
        "colab": {
          "base_uri": "https://localhost:8080/"
        },
        "id": "JE-7WJ5SXIP-",
        "outputId": "cc9fdc3a-eadd-45d1-a8bb-3ca56e625e1b"
      },
      "source": [
        "thisdict={\"brand\":\"ford\",\"model\":\"mustang\",\"country\":\"india\",\"year\":1964,\"colour\":[\"red\",\"white\",\"blue\"]}\n",
        "print(thisdict)"
      ],
      "execution_count": null,
      "outputs": [
        {
          "output_type": "stream",
          "text": [
            "{'brand': 'ford', 'model': 'mustang', 'country': 'india', 'year': 1964, 'colour': ['red', 'white', 'blue']}\n"
          ],
          "name": "stdout"
        }
      ]
    },
    {
      "cell_type": "code",
      "metadata": {
        "colab": {
          "base_uri": "https://localhost:8080/"
        },
        "id": "pfg12YYBYDXh",
        "outputId": "4ab31048-034a-47df-9064-4218a23df91f"
      },
      "source": [
        "print(type(thisdict))"
      ],
      "execution_count": null,
      "outputs": [
        {
          "output_type": "stream",
          "text": [
            "<class 'dict'>\n"
          ],
          "name": "stdout"
        }
      ]
    },
    {
      "cell_type": "code",
      "metadata": {
        "colab": {
          "base_uri": "https://localhost:8080/"
        },
        "id": "lDtaLYPZY0YN",
        "outputId": "37c54355-3c67-4216-9ac4-4c68a161d7ae"
      },
      "source": [
        "thisdict={\"brand\":\"ford\",\"model\":\"mustang\",\"country\":\"india\",\"year\":1964,\"colour\":[\"red\",\"white\",\"blue\"]}\n",
        "thisdict[\"year\"]= 2020\n",
        "print(thisdict)\n",
        "print(len(thisdict[\"colour\"]))"
      ],
      "execution_count": null,
      "outputs": [
        {
          "output_type": "stream",
          "text": [
            "{'brand': 'ford', 'model': 'mustang', 'country': 'india', 'year': 2020, 'colour': ['red', 'white', 'blue']}\n",
            "3\n"
          ],
          "name": "stdout"
        }
      ]
    },
    {
      "cell_type": "code",
      "metadata": {
        "colab": {
          "base_uri": "https://localhost:8080/"
        },
        "id": "5GsQianYa_W3",
        "outputId": "d2aecb4d-2258-4129-cd7a-c5de554697c4"
      },
      "source": [
        "thisdict={\"brand\":\"ford\",\"model\":\"mustang\",\"country\":\"india\",\"year\":2022,\"colour\":[\"red\",\"white\",\"blue\"]}\n",
        "thisdict.update({\"aditya\":\"first owner\"})\n",
        "print(thisdict)"
      ],
      "execution_count": null,
      "outputs": [
        {
          "output_type": "stream",
          "text": [
            "{'brand': 'ford', 'model': 'mustang', 'country': 'india', 'year': 2022, 'colour': ['red', 'white', 'blue'], 'aditya': 'first owner'}\n"
          ],
          "name": "stdout"
        }
      ]
    },
    {
      "cell_type": "code",
      "metadata": {
        "colab": {
          "base_uri": "https://localhost:8080/"
        },
        "id": "e7em_iLPbuh1",
        "outputId": "85cf1418-b614-4111-d106-25bfde88e2ae"
      },
      "source": [
        "thisdict={\"brand\":\"ford\",\"model\":\"mustang\",\"country\":\"india\",\"year\":2022,\"colour\":[\"red\",\"white\",\"blue\"]}\n",
        "thisdict.pop(\"colour\")\n",
        "print(thisdict)"
      ],
      "execution_count": null,
      "outputs": [
        {
          "output_type": "stream",
          "text": [
            "{'brand': 'ford', 'model': 'mustang', 'country': 'india', 'year': 2022}\n"
          ],
          "name": "stdout"
        }
      ]
    },
    {
      "cell_type": "code",
      "metadata": {
        "colab": {
          "base_uri": "https://localhost:8080/"
        },
        "id": "goMpKE6ycK8F",
        "outputId": "741ffe1d-fdc3-4eee-bd22-68b95be8bc4d"
      },
      "source": [
        "thisdict={\"brand\":\"ford\",\"model\":\"mustang\",\"country\":\"india\",\"year\":2022,\"colour\":[\"red\",\"white\",\"blue\"]}\n",
        "del thisdict[\"year\"]\n",
        "print(thisdict)"
      ],
      "execution_count": null,
      "outputs": [
        {
          "output_type": "stream",
          "text": [
            "{'brand': 'ford', 'model': 'mustang', 'country': 'india', 'colour': ['red', 'white', 'blue']}\n"
          ],
          "name": "stdout"
        }
      ]
    },
    {
      "cell_type": "code",
      "metadata": {
        "colab": {
          "base_uri": "https://localhost:8080/"
        },
        "id": "16oDYZ1uchBa",
        "outputId": "ac1b2107-670e-4245-f32c-f929a6ad11fd"
      },
      "source": [
        "thisdict={\"brand\":\"ford\",\"model\":\"mustang\",\"country\":\"india\",\"year\":2022,\"colour\":[\"red\",\"white\",\"blue\"]}\n",
        "thisdict.clear()\n",
        "print(thisdict)"
      ],
      "execution_count": null,
      "outputs": [
        {
          "output_type": "stream",
          "text": [
            "{}\n"
          ],
          "name": "stdout"
        }
      ]
    },
    {
      "cell_type": "code",
      "metadata": {
        "colab": {
          "base_uri": "https://localhost:8080/"
        },
        "id": "gJsbLxRhc1uJ",
        "outputId": "586ca093-93dc-4fd3-ef08-f376f53ae022"
      },
      "source": [
        "thisdict={\"brand\":\"ford\",\"model\":\"mustang\",\"country\":\"india\",\"year\":2022,\"colour\":[\"red\",\"white\",\"blue\"]}\n",
        "newdict=thisdict.copy()\n",
        "print(newdict)"
      ],
      "execution_count": null,
      "outputs": [
        {
          "output_type": "stream",
          "text": [
            "{'brand': 'ford', 'model': 'mustang', 'country': 'india', 'year': 2022, 'colour': ['red', 'white', 'blue']}\n"
          ],
          "name": "stdout"
        }
      ]
    },
    {
      "cell_type": "code",
      "metadata": {
        "colab": {
          "base_uri": "https://localhost:8080/"
        },
        "id": "GaVizhOpdRnR",
        "outputId": "a24333f4-2ca7-4190-a641-be85e6e9b605"
      },
      "source": [
        "thisdict={\"child1\":{\"name\":\"chithra\",\"year\":2000},\"child2\":{\"name\":\"rohan\",\"year\":2000},\"child3\":{\"name\":\"chirag\",\"year\":2007}}\n",
        "print(thisdict)"
      ],
      "execution_count": 5,
      "outputs": [
        {
          "output_type": "stream",
          "text": [
            "{'child1': {'name': 'chithra', 'year': 2000}, 'child2': {'name': 'rohan', 'year': 2000}, 'child3': {'name': 'chirag', 'year': 2007}}\n"
          ],
          "name": "stdout"
        }
      ]
    },
    {
      "cell_type": "markdown",
      "metadata": {
        "id": "6tWIGZRfe12I"
      },
      "source": [
        "dictionary methods"
      ]
    },
    {
      "cell_type": "markdown",
      "metadata": {
        "id": "Q5iV51uue5Xt"
      },
      "source": [
        "**1)clear() , 2)copy() , 3)fromkey() , 4)get() , 5)items() , 6)keys() , 7)pop() , 8)popitem() , 9)setdefault() , 10)update() , 11)values()**"
      ]
    },
    {
      "cell_type": "code",
      "metadata": {
        "colab": {
          "base_uri": "https://localhost:8080/"
        },
        "id": "V-e-WwxTecAl",
        "outputId": "5207d147-76f1-4483-9bf8-d99a59976d2b"
      },
      "source": [
        "a=33\n",
        "b=200\n",
        "if b>a :\n",
        "  print(\"b is greater\")\n"
      ],
      "execution_count": null,
      "outputs": [
        {
          "output_type": "stream",
          "text": [
            "b is greater\n"
          ],
          "name": "stdout"
        }
      ]
    },
    {
      "cell_type": "code",
      "metadata": {
        "colab": {
          "base_uri": "https://localhost:8080/"
        },
        "id": "vxS8MckXgEbd",
        "outputId": "890acd3f-8653-4e17-ca35-d6c1e6c9818a"
      },
      "source": [
        "a=33\n",
        "b=33\n",
        "if b>a :\n",
        "  print(\"b is greater\")\n",
        "elif a==b :\n",
        "  print(\"a and b are equal\")\n"
      ],
      "execution_count": null,
      "outputs": [
        {
          "output_type": "stream",
          "text": [
            "a and b are equal\n"
          ],
          "name": "stdout"
        }
      ]
    },
    {
      "cell_type": "code",
      "metadata": {
        "colab": {
          "base_uri": "https://localhost:8080/"
        },
        "id": "EAlMQiAqgcLU",
        "outputId": "2f1be5c0-ef10-475e-cca0-9262049cb586"
      },
      "source": [
        "a=333\n",
        "b=33\n",
        "if b>a :\n",
        "  print(\"b is greater\")\n",
        "elif a==b :\n",
        "  print(\"a and b are equal\")\n",
        "else :\n",
        "  print(\"a is greater than b\")"
      ],
      "execution_count": null,
      "outputs": [
        {
          "output_type": "stream",
          "text": [
            "a is greater than b\n"
          ],
          "name": "stdout"
        }
      ]
    },
    {
      "cell_type": "code",
      "metadata": {
        "colab": {
          "base_uri": "https://localhost:8080/"
        },
        "id": "pluAGApVgsa4",
        "outputId": "c25389d7-908e-4f8e-f0e2-db7007a22268"
      },
      "source": [
        "a=333\n",
        "b=33\n",
        "if b>a :\n",
        "  print(\"b is greater\")\n",
        "else :\n",
        "  print(\"a is greater than b\")"
      ],
      "execution_count": null,
      "outputs": [
        {
          "output_type": "stream",
          "text": [
            "a is greater than b\n"
          ],
          "name": "stdout"
        }
      ]
    },
    {
      "cell_type": "code",
      "metadata": {
        "colab": {
          "base_uri": "https://localhost:8080/"
        },
        "id": "64Pb8hD-g89j",
        "outputId": "29cca9f7-fb71-41f6-fe9d-0e4fcc38249c"
      },
      "source": [
        "a=333\n",
        "b=3333\n",
        "if b>a : print(\"b is greater\")"
      ],
      "execution_count": null,
      "outputs": [
        {
          "output_type": "stream",
          "text": [
            "b is greater\n"
          ],
          "name": "stdout"
        }
      ]
    },
    {
      "cell_type": "code",
      "metadata": {
        "colab": {
          "base_uri": "https://localhost:8080/"
        },
        "id": "lqHdxx01hNun",
        "outputId": "9d812532-1fc9-410d-fb1a-4a0776e5283f"
      },
      "source": [
        "a=333\n",
        "b=33\n",
        "c=444\n",
        "if a>b and c>a :\n",
        "  print(\"both conditions are true.\",a,\"and\",c,\"are greater than\",b)"
      ],
      "execution_count": null,
      "outputs": [
        {
          "output_type": "stream",
          "text": [
            "both conditions are true. 333 and 444 are greater than 33\n"
          ],
          "name": "stdout"
        }
      ]
    },
    {
      "cell_type": "code",
      "metadata": {
        "colab": {
          "base_uri": "https://localhost:8080/"
        },
        "id": "cIMQMNQ-hxZO",
        "outputId": "c5f16c6e-cf24-4ce8-a7e6-c356be2e58fd"
      },
      "source": [
        "a=333\n",
        "b=33\n",
        "c=444\n",
        "if b>a or c>a :\n",
        "  print(\"at least one of the conditions is true\")"
      ],
      "execution_count": null,
      "outputs": [
        {
          "output_type": "stream",
          "text": [
            "at least one of the conditions is true\n"
          ],
          "name": "stdout"
        }
      ]
    },
    {
      "cell_type": "markdown",
      "metadata": {
        "id": "Jvf_bZGIiHxV"
      },
      "source": [
        "***nested if***"
      ]
    },
    {
      "cell_type": "code",
      "metadata": {
        "colab": {
          "base_uri": "https://localhost:8080/"
        },
        "id": "dYmrPWsiiCv6",
        "outputId": "f94db710-4fce-4913-981b-8f115f22cb48"
      },
      "source": [
        "x=42\n",
        "if x>10:\n",
        "  print(\"value is greater than 10\")\n",
        "  if x>20:\n",
        "    print(\"value is greater than 20\")\n",
        "else:\n",
        "  print(\"value is less than 10\")"
      ],
      "execution_count": null,
      "outputs": [
        {
          "output_type": "stream",
          "text": [
            "value is greater than 10\n",
            "value is greater than 20\n"
          ],
          "name": "stdout"
        }
      ]
    },
    {
      "cell_type": "markdown",
      "metadata": {
        "id": "W5yV4qH5jNKM"
      },
      "source": [
        "***while loop***"
      ]
    },
    {
      "cell_type": "code",
      "metadata": {
        "colab": {
          "base_uri": "https://localhost:8080/"
        },
        "id": "WgQLrjepi2Vy",
        "outputId": "860be02b-e2d1-43f2-8fc8-4b84751e8637"
      },
      "source": [
        "i=1\n",
        "while i<6 :\n",
        "  print(i)\n",
        "  i+=1\n"
      ],
      "execution_count": null,
      "outputs": [
        {
          "output_type": "stream",
          "text": [
            "1\n",
            "2\n",
            "3\n",
            "4\n",
            "5\n"
          ],
          "name": "stdout"
        }
      ]
    },
    {
      "cell_type": "code",
      "metadata": {
        "colab": {
          "base_uri": "https://localhost:8080/"
        },
        "id": "7qpTkGH1jcRV",
        "outputId": "4d2ff5ce-92a2-4511-d84b-9ca2fe3e4d19"
      },
      "source": [
        "i=1\n",
        "while i<6 :\n",
        "  print(i)\n",
        "  if i==3:\n",
        "    break\n",
        "  i+=1\n"
      ],
      "execution_count": null,
      "outputs": [
        {
          "output_type": "stream",
          "text": [
            "1\n",
            "2\n",
            "3\n"
          ],
          "name": "stdout"
        }
      ]
    },
    {
      "cell_type": "code",
      "metadata": {
        "colab": {
          "base_uri": "https://localhost:8080/"
        },
        "id": "MQbre4pFjs9s",
        "outputId": "f255c79a-5402-40c4-85d5-00992c7b3075"
      },
      "source": [
        "i=1\n",
        "while i<6 :\n",
        "  print(i)\n",
        "  i+=1\n",
        "else:\n",
        "  print(\"i is no longer less than 6\")"
      ],
      "execution_count": null,
      "outputs": [
        {
          "output_type": "stream",
          "text": [
            "1\n",
            "2\n",
            "3\n",
            "4\n",
            "5\n",
            "i is no longer less than 6\n"
          ],
          "name": "stdout"
        }
      ]
    },
    {
      "cell_type": "markdown",
      "metadata": {
        "id": "gzWLlqEmkiF5"
      },
      "source": [
        "***python program to find the L.C.M of 2 input numbers***"
      ]
    },
    {
      "cell_type": "code",
      "metadata": {
        "colab": {
          "base_uri": "https://localhost:8080/"
        },
        "id": "PbKB_u_7kO3I",
        "outputId": "61408dbd-d2b4-44d2-eb2c-f9b2a14ea1b5"
      },
      "source": [
        "def lcm(x,y):\n",
        "  if x>y:\n",
        "    greater = x\n",
        "  else:\n",
        "    greater=y\n",
        "  while(True):\n",
        "    if ((greater%x==0) and (greater%y==0)):\n",
        "      lcm=greater\n",
        "      break\n",
        "    greater+=1\n",
        "  return lcm\n",
        "num1=int(input(\"enter first number:\"))\n",
        "num2=int(input(\"enter second number:\"))\n",
        "print(\"lcm of\",num1,\"and\",num2,\"is\",lcm(num1,num2))"
      ],
      "execution_count": null,
      "outputs": [
        {
          "output_type": "stream",
          "text": [
            "enter first number:1234\n",
            "enter second number:5678\n",
            "lcm of 1234 and 5678 is 3503326\n"
          ],
          "name": "stdout"
        }
      ]
    },
    {
      "cell_type": "code",
      "metadata": {
        "id": "0vq7P9bTmMeM"
      },
      "source": [
        ""
      ],
      "execution_count": null,
      "outputs": []
    }
  ]
}