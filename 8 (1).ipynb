{
  "nbformat": 4,
  "nbformat_minor": 0,
  "metadata": {
    "colab": {
      "name": "prog13.ipynb",
      "provenance": [],
      "collapsed_sections": []
    },
    "kernelspec": {
      "name": "python3",
      "display_name": "Python 3"
    }
  },
  "cells": [
    {
      "cell_type": "markdown",
      "metadata": {
        "id": "DR_syCUOsPmQ"
      },
      "source": [
        "Getting Started with Numpy"
      ]
    },
    {
      "cell_type": "code",
      "metadata": {
        "colab": {
          "base_uri": "https://localhost:8080/"
        },
        "id": "WoNYEqcssWA4",
        "outputId": "2d285db3-ccce-41b0-dd82-900fb4f813d7"
      },
      "source": [
        "import numpy as np\n",
        "arr=np.array([1,2,3,4])\n",
        "print(arr)"
      ],
      "execution_count": null,
      "outputs": [
        {
          "output_type": "stream",
          "text": [
            "[1 2 3 4]\n"
          ],
          "name": "stdout"
        }
      ]
    },
    {
      "cell_type": "code",
      "metadata": {
        "colab": {
          "base_uri": "https://localhost:8080/"
        },
        "id": "NfdPpknksipB",
        "outputId": "5722e8fa-2650-4802-ff47-0e2a241fac32"
      },
      "source": [
        "print(np.__version__)"
      ],
      "execution_count": null,
      "outputs": [
        {
          "output_type": "stream",
          "text": [
            "1.18.5\n"
          ],
          "name": "stdout"
        }
      ]
    },
    {
      "cell_type": "markdown",
      "metadata": {
        "id": "A9pX4oOptG8o"
      },
      "source": [
        "Creating Numpy ndarray"
      ]
    },
    {
      "cell_type": "code",
      "metadata": {
        "colab": {
          "base_uri": "https://localhost:8080/"
        },
        "id": "TRwVOnqwtKBM",
        "outputId": "0d1fc52d-c495-4c01-d11e-71240d9462f9"
      },
      "source": [
        "arr=np.array([1,2,3,4,5])\n",
        "print(arr)\n",
        "print(type(arr))"
      ],
      "execution_count": null,
      "outputs": [
        {
          "output_type": "stream",
          "text": [
            "[1 2 3 4 5]\n",
            "<class 'numpy.ndarray'>\n"
          ],
          "name": "stdout"
        }
      ]
    },
    {
      "cell_type": "code",
      "metadata": {
        "colab": {
          "base_uri": "https://localhost:8080/"
        },
        "id": "URpLcl55tZ2c",
        "outputId": "60d05006-9da4-4821-b070-e5b2886abebe"
      },
      "source": [
        "arr=np.array(345)\n",
        "print(arr)\n",
        "print(type(arr))"
      ],
      "execution_count": null,
      "outputs": [
        {
          "output_type": "stream",
          "text": [
            "345\n",
            "<class 'numpy.ndarray'>\n"
          ],
          "name": "stdout"
        }
      ]
    },
    {
      "cell_type": "code",
      "metadata": {
        "colab": {
          "base_uri": "https://localhost:8080/"
        },
        "id": "A01aaOuNtl46",
        "outputId": "7d3dd443-73a7-4165-bff8-6a1e958f8dcb"
      },
      "source": [
        "arr=np.array([[1,2,3,4,5],[6,7,8,9,10]])\n",
        "print(arr)\n",
        "print(type(arr))"
      ],
      "execution_count": null,
      "outputs": [
        {
          "output_type": "stream",
          "text": [
            "[[ 1  2  3  4  5]\n",
            " [ 6  7  8  9 10]]\n",
            "<class 'numpy.ndarray'>\n"
          ],
          "name": "stdout"
        }
      ]
    },
    {
      "cell_type": "code",
      "metadata": {
        "colab": {
          "base_uri": "https://localhost:8080/"
        },
        "id": "pqy5scv9tr12",
        "outputId": "e316f3da-514e-4aea-b32f-d077fee06800"
      },
      "source": [
        "arr=np.array([[1,2,3,4,5],[6,7,8,9]])\n",
        "print(arr)\n",
        "print(type(arr))"
      ],
      "execution_count": null,
      "outputs": [
        {
          "output_type": "stream",
          "text": [
            "[list([1, 2, 3, 4, 5]) list([6, 7, 8, 9])]\n",
            "<class 'numpy.ndarray'>\n"
          ],
          "name": "stdout"
        }
      ]
    },
    {
      "cell_type": "code",
      "metadata": {
        "colab": {
          "base_uri": "https://localhost:8080/"
        },
        "id": "BASgLeB8t6Ta",
        "outputId": "3af3424a-619e-45f0-e4b8-be5ace146c71"
      },
      "source": [
        "arr=np.array([[[1,2,3]],[[4,5,6]],[[7,8,9]]])\n",
        "print(arr)\n",
        "print(type(arr))"
      ],
      "execution_count": null,
      "outputs": [
        {
          "output_type": "stream",
          "text": [
            "[[[1 2 3]]\n",
            "\n",
            " [[4 5 6]]\n",
            "\n",
            " [[7 8 9]]]\n",
            "<class 'numpy.ndarray'>\n"
          ],
          "name": "stdout"
        }
      ]
    },
    {
      "cell_type": "code",
      "metadata": {
        "colab": {
          "base_uri": "https://localhost:8080/"
        },
        "id": "sd9iJWU0unKa",
        "outputId": "70aa5fcf-e985-41f8-eb44-5298aedf6afc"
      },
      "source": [
        "a=np.array(456)\n",
        "b=np.array([1,2,3,4,5])\n",
        "c=np.array([[1,2,3,4],[5,6,7,8]])\n",
        "d=np.array([[[1,2,3]],[[4,5,6]],[[7,8,9]]])\n",
        "print(a.ndim)\n",
        "print(b.ndim)\n",
        "print(c.ndim)\n",
        "print(d.ndim)"
      ],
      "execution_count": null,
      "outputs": [
        {
          "output_type": "stream",
          "text": [
            "0\n",
            "1\n",
            "2\n",
            "3\n"
          ],
          "name": "stdout"
        }
      ]
    },
    {
      "cell_type": "code",
      "metadata": {
        "colab": {
          "base_uri": "https://localhost:8080/"
        },
        "id": "AAJ8S70EvtY-",
        "outputId": "4a6780b7-f06c-47dd-cba7-42362c466cf6"
      },
      "source": [
        "b=np.array([1,2,3,4,5])\n",
        "print(b[2]+b[1])"
      ],
      "execution_count": null,
      "outputs": [
        {
          "output_type": "stream",
          "text": [
            "5\n"
          ],
          "name": "stdout"
        }
      ]
    },
    {
      "cell_type": "code",
      "metadata": {
        "colab": {
          "base_uri": "https://localhost:8080/"
        },
        "id": "oxC470z5wQrg",
        "outputId": "5f3e6fdb-8c5e-4aa1-df3a-a8591fcb4a96"
      },
      "source": [
        "c=np.array([[1,2,3,4,5],[5,6,7,8,9]])\n",
        "print(c)\n",
        "print(\"Fifth element in 2nd dim\",c[1,4])"
      ],
      "execution_count": null,
      "outputs": [
        {
          "output_type": "stream",
          "text": [
            "[[1 2 3 4 5]\n",
            " [5 6 7 8 9]]\n",
            "Fifth element in 2nd dim 9\n"
          ],
          "name": "stdout"
        }
      ]
    },
    {
      "cell_type": "code",
      "metadata": {
        "colab": {
          "base_uri": "https://localhost:8080/"
        },
        "id": "mGWvlnRzw_X-",
        "outputId": "bbcca807-48ea-42f2-e0e1-a5f8c5e91ced"
      },
      "source": [
        "d=np.array([[[1,2,3]],[[4,5,6]],[[7,8,9]]])\n",
        "print(d[1,0,1])\n",
        "print(d.shape)"
      ],
      "execution_count": null,
      "outputs": [
        {
          "output_type": "stream",
          "text": [
            "5\n",
            "(3, 1, 3)\n"
          ],
          "name": "stdout"
        }
      ]
    },
    {
      "cell_type": "code",
      "metadata": {
        "colab": {
          "base_uri": "https://localhost:8080/"
        },
        "id": "heckHTG2xYMm",
        "outputId": "2633fa45-53ec-49f9-e443-8264b15f72f9"
      },
      "source": [
        "c=np.array([[1,2,3,4,5],[5,6,7,8,9]])\n",
        "print(c)\n",
        "print(\"Last element in 2nd dim\",c[1,-1])"
      ],
      "execution_count": null,
      "outputs": [
        {
          "output_type": "stream",
          "text": [
            "[[1 2 3 4 5]\n",
            " [5 6 7 8 9]]\n",
            "Last element in 2nd dim 9\n"
          ],
          "name": "stdout"
        }
      ]
    },
    {
      "cell_type": "code",
      "metadata": {
        "colab": {
          "base_uri": "https://localhost:8080/"
        },
        "id": "2CBPxW6vy9UX",
        "outputId": "21b9a45e-d5c4-4309-c9e1-bff1dd9d80f7"
      },
      "source": [
        "b=np.array([1,2,3,4,5])\n",
        "print(b[1:3])"
      ],
      "execution_count": null,
      "outputs": [
        {
          "output_type": "stream",
          "text": [
            "[2 3]\n"
          ],
          "name": "stdout"
        }
      ]
    },
    {
      "cell_type": "code",
      "metadata": {
        "colab": {
          "base_uri": "https://localhost:8080/"
        },
        "id": "P1xHZ19szT6o",
        "outputId": "ad4115ac-bb80-4e45-cde5-34fea2d55fef"
      },
      "source": [
        "b=np.array([1,2,3,4,5,6,7,8,9,10])\n",
        "print(b[1:7:2])"
      ],
      "execution_count": null,
      "outputs": [
        {
          "output_type": "stream",
          "text": [
            "[2 4 6]\n"
          ],
          "name": "stdout"
        }
      ]
    },
    {
      "cell_type": "code",
      "metadata": {
        "colab": {
          "base_uri": "https://localhost:8080/"
        },
        "id": "dOBEnkLt0so6",
        "outputId": "9ee037ff-ef74-43b9-ce47-388c87ff39cf"
      },
      "source": [
        "b=np.array([[1,2,3,4,5],[6,7,8,9,10]])\n",
        "print(b[0:3,1:3])"
      ],
      "execution_count": null,
      "outputs": [
        {
          "output_type": "stream",
          "text": [
            "[[2 3]\n",
            " [7 8]]\n"
          ],
          "name": "stdout"
        }
      ]
    },
    {
      "cell_type": "code",
      "metadata": {
        "colab": {
          "base_uri": "https://localhost:8080/"
        },
        "id": "fVQ7E0yQ1iYC",
        "outputId": "2da859df-a4d8-4f40-dfaf-1a70b0ca9d6c"
      },
      "source": [
        "c=np.array(['Manas','Jhon','Stark','Logan','Bruce','Charles'])\n",
        "print(c)\n",
        "print(c.dtype)"
      ],
      "execution_count": null,
      "outputs": [
        {
          "output_type": "stream",
          "text": [
            "['Manas' 'Jhon' 'Stark' 'Logan' 'Bruce' 'Charles']\n",
            "<U7\n"
          ],
          "name": "stdout"
        }
      ]
    },
    {
      "cell_type": "code",
      "metadata": {
        "colab": {
          "base_uri": "https://localhost:8080/"
        },
        "id": "7MHs9ns82-Xm",
        "outputId": "c633b316-4f22-4b12-8192-dfdf3ba53a40"
      },
      "source": [
        "b=np.array([1,2,3,4,5])\n",
        "newarr=b.astype(str)\n",
        "print(newarr)\n",
        "print(newarr.dtype)"
      ],
      "execution_count": null,
      "outputs": [
        {
          "output_type": "stream",
          "text": [
            "['1' '2' '3' '4' '5']\n",
            "<U21\n"
          ],
          "name": "stdout"
        }
      ]
    },
    {
      "cell_type": "code",
      "metadata": {
        "colab": {
          "base_uri": "https://localhost:8080/"
        },
        "id": "oQUeAb8C3uqh",
        "outputId": "73dcd367-a4cf-4635-9513-14681712bb4f"
      },
      "source": [
        "b=np.array([1.2,2.3,3.4,4.5,5.6])\n",
        "newarr=b.astype(int)\n",
        "print(newarr.dtype)"
      ],
      "execution_count": null,
      "outputs": [
        {
          "output_type": "stream",
          "text": [
            "int64\n"
          ],
          "name": "stdout"
        }
      ]
    },
    {
      "cell_type": "code",
      "metadata": {
        "colab": {
          "base_uri": "https://localhost:8080/"
        },
        "id": "SMxiLqZY58Bb",
        "outputId": "a6771154-0736-4186-ca76-32d5b387cf2d"
      },
      "source": [
        "b=np.array([1.2,2.3,3.4,4.5,5.6])\n",
        "newarr=b.copy()\n",
        "print(b)\n",
        "print(newarr)\n",
        "print(newarr.dtype)"
      ],
      "execution_count": null,
      "outputs": [
        {
          "output_type": "stream",
          "text": [
            "[1.2 2.3 3.4 4.5 5.6]\n",
            "[1.2 2.3 3.4 4.5 5.6]\n",
            "float64\n"
          ],
          "name": "stdout"
        }
      ]
    },
    {
      "cell_type": "code",
      "metadata": {
        "colab": {
          "base_uri": "https://localhost:8080/"
        },
        "id": "Gr4nrzaN6Ogm",
        "outputId": "3ca16add-f6d0-4a3e-888b-1507fa5b1b5a"
      },
      "source": [
        "b=np.array([1.2,2.3,3.4,4.5,5.6])\n",
        "newarr=b.view()\n",
        "print(b)\n",
        "newarr[0]=34\n",
        "print(b)\n",
        "print(newarr)\n",
        "print(newarr.dtype)"
      ],
      "execution_count": null,
      "outputs": [
        {
          "output_type": "stream",
          "text": [
            "[1.2 2.3 3.4 4.5 5.6]\n",
            "[34.   2.3  3.4  4.5  5.6]\n",
            "[34.   2.3  3.4  4.5  5.6]\n",
            "float64\n"
          ],
          "name": "stdout"
        }
      ]
    },
    {
      "cell_type": "code",
      "metadata": {
        "colab": {
          "base_uri": "https://localhost:8080/"
        },
        "id": "beACPcCM7EKg",
        "outputId": "5840a988-12a2-4a21-916c-0f4cb1593f24"
      },
      "source": [
        "b=np.array([1.2,2.3,3.4,4.5,5.6])\n",
        "x=b.view()\n",
        "y=b.copy()\n",
        "print(x.base)\n",
        "print(y.base)"
      ],
      "execution_count": null,
      "outputs": [
        {
          "output_type": "stream",
          "text": [
            "[1.2 2.3 3.4 4.5 5.6]\n",
            "None\n"
          ],
          "name": "stdout"
        }
      ]
    },
    {
      "cell_type": "code",
      "metadata": {
        "colab": {
          "base_uri": "https://localhost:8080/"
        },
        "id": "4L7zt3Su8J8O",
        "outputId": "2c511654-69fe-48e7-f871-e1902a95d84d"
      },
      "source": [
        "b=np.array([1.2,2.3,3.4,4.5,5.6,7.7])\n",
        "newarr=b.reshape(2,3,1)\n",
        "print(newarr)"
      ],
      "execution_count": null,
      "outputs": [
        {
          "output_type": "stream",
          "text": [
            "[[[1.2]\n",
            "  [2.3]\n",
            "  [3.4]]\n",
            "\n",
            " [[4.5]\n",
            "  [5.6]\n",
            "  [7.7]]]\n"
          ],
          "name": "stdout"
        }
      ]
    },
    {
      "cell_type": "code",
      "metadata": {
        "id": "gs7lisNy92xw"
      },
      "source": [
        ""
      ],
      "execution_count": null,
      "outputs": []
    }
  ]
}